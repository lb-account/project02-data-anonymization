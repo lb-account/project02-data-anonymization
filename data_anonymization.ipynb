{
 "cells": [
  {
   "cell_type": "markdown",
   "id": "67e6bd88-c9d7-4625-9311-04b899fdeaeb",
   "metadata": {},
   "source": [
    "--------------------------------------------------------------------------------"
   ]
  },
  {
   "cell_type": "markdown",
   "id": "a549227e-3e31-48df-b273-f0e718cbdbb8",
   "metadata": {},
   "source": [
    "<div style=\"text-align: center;\">\n",
    "    <h1 style=\"font-weight: bold;\">Data anonymization </h1>\n",
    "</div>"
   ]
  },
  {
   "cell_type": "markdown",
   "id": "d834af6f-f946-4c71-be0f-2545f9eab014",
   "metadata": {},
   "source": [
    "-------------------------------------------------------------------"
   ]
  },
  {
   "cell_type": "markdown",
   "id": "8db434d0-7190-4950-bfba-06c33b655642",
   "metadata": {},
   "source": [
    "# **Introduction**"
   ]
  },
  {
   "cell_type": "markdown",
   "id": "73b4a369-b850-4fe6-bd18-51dd4d881657",
   "metadata": {},
   "source": [
    "Following our first project, `project01-pseudonymization`, which demonstrated the limitations of pseudonymization, this second project focuses on other techniques in data anonymization, with a more robust approach to protecting sensitive information. While pseudonymization can reduce the risk of direct identification, it remains vulnerable to re-identification attacks, especially when combined with external datasets. Differential privacy, on the other hand, aims to ensure that individuals cannot be re-identified under any reasonable assumptions.\n",
    "\n",
    "Key concepts :\n",
    "- **Anonymization** - A definition of the concept\n",
    "- **k-Anonymity** – A traditional approach to anonymization and its weaknesses  \n",
    "- **Differential Privacy** – Theoretical foundation, sensitivity, the Laplace mechanism and the Gaussian mechanism\n",
    "- **PATE Framework** – A privacy-preserving approach using teacher-student models  "
   ]
  },
  {
   "cell_type": "code",
   "execution_count": 1,
   "id": "4675fbec-fcf2-4355-9752-08964189168e",
   "metadata": {},
   "outputs": [],
   "source": [
    "import pandas as pd\n",
    "import numpy as np\n",
    "import matplotlib.pyplot as plt\n",
    "import matplotlib.image as mpimg\n",
    "from sklearn.model_selection import train_test_split\n",
    "from sklearn.utils import shuffle\n",
    "from sklearn.ensemble import RandomForestClassifier as RFC\n",
    "from sklearn.metrics import classification_report\n",
    "from sklearn import metrics"
   ]
  },
  {
   "cell_type": "markdown",
   "id": "bdda7049-29e9-4e95-977b-838a76ff62a1",
   "metadata": {},
   "source": [
    "# I. Anonymization"
   ]
  },
  {
   "cell_type": "markdown",
   "id": "bdbb2400-f3e8-497c-948f-e0c29ff38179",
   "metadata": {},
   "source": [
    "`Data anonymization` is the process of transforming, encrypting, or removing personally identifiable information (PII) from datasets to protect individuals’ privacy while still allowing the data to be used for analysis, research, and other legitimate purposes. This process ensures that the data cannot be traced back to a specific person, even when combined with other sources of information.\n",
    "\n",
    "Anonymization techniques include **data masking**, where sensitive data is replaced or obscured; **pseudonymization**, which replaces identifying details with artificial identifiers; **generalization**, where data is grouped into broad categories to reduce specificity; and **differential privacy**, which introduces noise into datasets to prevent identification of individuals.\n",
    "\n",
    "Data anonymization is widely used in industries such as healthcare, finance, and social sciences to comply with privacy regulations like **GDPR (General Data Protection Regulation) and HIPAA (Health Insurance Portability and Accountability Act)** while maintaining the value of data for analytics and decision-making. Proper anonymization techniques help organizations balance privacy protection with the need for data-driven insights, reducing the risk of data breaches and unauthorized access."
   ]
  },
  {
   "cell_type": "markdown",
   "id": "bee44f4f-6385-4693-a3ed-1578ca2b9bd8",
   "metadata": {},
   "source": [
    "As data anonymization techniques have evolved, various methods have been developed to protect sensitive information while preserving data utility. Among the earliest and most influential approaches was k-anonymity, which played a crucial role in shaping modern privacy-preserving techniques. While newer models have emerged to address its limitations, k-anonymity remains a foundational concept in the field of data privacy. The next section explores its principles, impact, and the challenges that led to the development of more advanced methods."
   ]
  },
  {
   "cell_type": "markdown",
   "id": "a9ee98d8-9ad0-414d-a001-9ace0899c21d",
   "metadata": {},
   "source": [
    "# II. K-anonymity"
   ]
  },
  {
   "cell_type": "markdown",
   "id": "0cd631ff-5d59-4a6b-b3fe-1cf7235b7b52",
   "metadata": {},
   "source": [
    "`K-anonymity` is a privacy technique that ensures each individual in a dataset is indistinguishable from at least k-1 others. To achieve this, each grouping of quasi-identifiers must contain at least k individuals. If any grouping has fewer than k, the dataset does not satisfy k-anonymity. \n",
    "\n",
    "Let's have a look at an example :"
   ]
  },
  {
   "cell_type": "code",
   "execution_count": 2,
   "id": "e84156f1-ede0-4198-bc15-3b5cc4ae5fcb",
   "metadata": {},
   "outputs": [],
   "source": [
    "# Specify the path to your CSV file\n",
    "file_path = \"D:/PORTFOLIO/project02-data-anonymization/data_resources/dataset_small.csv\"\n",
    "\n",
    "# Read the CSV file into a Pandas DataFrame\n",
    "small_df = pd.read_csv(file_path)"
   ]
  },
  {
   "cell_type": "code",
   "execution_count": 3,
   "id": "f38cdb94-1653-4df7-b330-832d28ef51ee",
   "metadata": {},
   "outputs": [
    {
     "data": {
      "text/html": [
       "<div>\n",
       "<style scoped>\n",
       "    .dataframe tbody tr th:only-of-type {\n",
       "        vertical-align: middle;\n",
       "    }\n",
       "\n",
       "    .dataframe tbody tr th {\n",
       "        vertical-align: top;\n",
       "    }\n",
       "\n",
       "    .dataframe thead th {\n",
       "        text-align: right;\n",
       "    }\n",
       "</style>\n",
       "<table border=\"1\" class=\"dataframe\">\n",
       "  <thead>\n",
       "    <tr style=\"text-align: right;\">\n",
       "      <th></th>\n",
       "      <th>Zip</th>\n",
       "      <th>Age</th>\n",
       "      <th>Workclass</th>\n",
       "      <th>Education</th>\n",
       "      <th>Marital Status</th>\n",
       "      <th>Occupation</th>\n",
       "      <th>Relationship</th>\n",
       "      <th>Race</th>\n",
       "      <th>Sex</th>\n",
       "      <th>Hours per week</th>\n",
       "      <th>Country</th>\n",
       "    </tr>\n",
       "  </thead>\n",
       "  <tbody>\n",
       "    <tr>\n",
       "      <th>0</th>\n",
       "      <td>27241</td>\n",
       "      <td>50</td>\n",
       "      <td>Private</td>\n",
       "      <td>Some-college</td>\n",
       "      <td>Divorced</td>\n",
       "      <td>Craft-repair</td>\n",
       "      <td>Not-in-family</td>\n",
       "      <td>White</td>\n",
       "      <td>Male</td>\n",
       "      <td>40</td>\n",
       "      <td>United-States</td>\n",
       "    </tr>\n",
       "    <tr>\n",
       "      <th>1</th>\n",
       "      <td>77306</td>\n",
       "      <td>28</td>\n",
       "      <td>Private</td>\n",
       "      <td>HS-grad</td>\n",
       "      <td>Married-civ-spouse</td>\n",
       "      <td>Craft-repair</td>\n",
       "      <td>Husband</td>\n",
       "      <td>White</td>\n",
       "      <td>Male</td>\n",
       "      <td>40</td>\n",
       "      <td>United-States</td>\n",
       "    </tr>\n",
       "    <tr>\n",
       "      <th>2</th>\n",
       "      <td>99721</td>\n",
       "      <td>36</td>\n",
       "      <td>Self-emp-not-inc</td>\n",
       "      <td>Prof-school</td>\n",
       "      <td>Married-civ-spouse</td>\n",
       "      <td>Prof-specialty</td>\n",
       "      <td>Husband</td>\n",
       "      <td>White</td>\n",
       "      <td>Male</td>\n",
       "      <td>60</td>\n",
       "      <td>United-States</td>\n",
       "    </tr>\n",
       "  </tbody>\n",
       "</table>\n",
       "</div>"
      ],
      "text/plain": [
       "     Zip  Age         Workclass     Education      Marital Status  \\\n",
       "0  27241   50           Private  Some-college            Divorced   \n",
       "1  77306   28           Private       HS-grad  Married-civ-spouse   \n",
       "2  99721   36  Self-emp-not-inc   Prof-school  Married-civ-spouse   \n",
       "\n",
       "       Occupation   Relationship   Race   Sex  Hours per week        Country  \n",
       "0    Craft-repair  Not-in-family  White  Male              40  United-States  \n",
       "1    Craft-repair        Husband  White  Male              40  United-States  \n",
       "2  Prof-specialty        Husband  White  Male              60  United-States  "
      ]
     },
     "execution_count": 3,
     "metadata": {},
     "output_type": "execute_result"
    }
   ],
   "source": [
    "small_df.head(3)"
   ]
  },
  {
   "cell_type": "markdown",
   "id": "a99a3392-6175-471a-a563-8a84c86ba931",
   "metadata": {},
   "source": [
    "We implement a function to test whether k-anonymity is satisfied :"
   ]
  },
  {
   "cell_type": "code",
   "execution_count": 4,
   "id": "01a9c3c3-0da0-4965-a550-4acd1e6c5637",
   "metadata": {},
   "outputs": [],
   "source": [
    "def analyse_k_anon(df, k, qids):\n",
    "    # group all categories according to the qids and count them\n",
    "    grouped_df = df.groupby(qids).size()\n",
    "    #selects rows that do not conform to k-anonymity, if len = 0 then k-anonymity is satisfied\n",
    "    return len(grouped_df[grouped_df<k])==0"
   ]
  },
  {
   "cell_type": "markdown",
   "id": "bc8ea071-2c8e-4697-b9d6-a60345519865",
   "metadata": {},
   "source": [
    "Does`small_df` satisfy the 2-anonymity with the QIDs = ['Sex', 'Race']?"
   ]
  },
  {
   "cell_type": "code",
   "execution_count": 5,
   "id": "526e44a2-af95-446a-8c59-6071058c29be",
   "metadata": {},
   "outputs": [
    {
     "name": "stdout",
     "output_type": "stream",
     "text": [
      "True\n"
     ]
    }
   ],
   "source": [
    "print(analyse_k_anon(small_df, 2, ['Sex','Race']))"
   ]
  },
  {
   "cell_type": "markdown",
   "id": "11fc9e1f-8712-44e4-9562-73282841cb5c",
   "metadata": {},
   "source": [
    "There is no group of individuals with less than 2 people according to attributes (gender, race), so 2-anonymity is satisfied for these QIDs."
   ]
  },
  {
   "cell_type": "markdown",
   "id": "c5dd62ed-c765-45bb-ab26-7c2d1cca7ba9",
   "metadata": {},
   "source": [
    "What is the list of quasi-identifier pairs for which `small_df` satisfies 2-anonymity?"
   ]
  },
  {
   "cell_type": "code",
   "execution_count": 6,
   "id": "f7a968e8-2cab-483d-bbb8-2205fe2cb2c7",
   "metadata": {},
   "outputs": [],
   "source": [
    "def check_pair(df, k):\n",
    "    cols_df = df.columns\n",
    "    for i in range(0,len(cols_df)):\n",
    "        for j in range(i+1,len(cols_df)):\n",
    "            if analyse_k_anon(df, k, [cols_df[i],cols_df[j]]):\n",
    "                print(\"Valid pairs: \" + cols_df[i] + \"   \" +cols_df[j])"
   ]
  },
  {
   "cell_type": "code",
   "execution_count": 7,
   "id": "f0785b40-95b5-4620-8881-2d5fa6dd762c",
   "metadata": {},
   "outputs": [
    {
     "name": "stdout",
     "output_type": "stream",
     "text": [
      "Valid pairs: Education   Sex\n",
      "Valid pairs: Marital Status   Sex\n",
      "Valid pairs: Relationship   Sex\n",
      "Valid pairs: Race   Sex\n"
     ]
    }
   ],
   "source": [
    "check_pair(small_df, 2)"
   ]
  },
  {
   "cell_type": "markdown",
   "id": "c863acde-e89d-4ba4-8710-04866b530fed",
   "metadata": {},
   "source": [
    "**Limitations of k-anonymity**"
   ]
  },
  {
   "cell_type": "markdown",
   "id": "1f818052-5627-40e4-b289-04da8a88a853",
   "metadata": {},
   "source": [
    "While k-anonymity provides some level of privacy, it has significant weaknesses. One of the main limitations is that it relies on the assumption that adversaries do not have access to additional external information. If an adversary does possess such knowledge (e.g., public records or social media profiles), they can cross-reference the anonymized data and potentially re-identify individuals. This was famously demonstrated with the [Netflix Prize dataset](https://medium.com/%40EmiLabsTech/data-privacy-the-netflix-prize-competition-84330d01cc34), where researchers were able to de-anonymize users by combining the Netflix ratings with publicly available IMDb ratings. This vulnerability showed that k-anonymity alone cannot guarantee privacy in real-world scenarios."
   ]
  },
  {
   "cell_type": "markdown",
   "id": "4477c895-28a0-48fb-8b20-25dbb74b8c25",
   "metadata": {},
   "source": [
    "&nbsp;"
   ]
  },
  {
   "cell_type": "markdown",
   "id": "0fd615e9-137c-4fcb-a84e-f4a4f5f15749",
   "metadata": {},
   "source": [
    "# **III - Differential privacy**"
   ]
  },
  {
   "cell_type": "markdown",
   "id": "8e9c395e-0d8e-4866-b7fa-eeff53f864a6",
   "metadata": {},
   "source": [
    "The vulnerabilities of k-anonymity, highlighted by the Netflix Prize example, led to the development of [`differential privacy by Cynthia Dwork`](https://www.cis.upenn.edu/%7Eaaroth/Papers/privacybook.pdf) and her colleagues in 2006. Dwork, a leading computer scientist, introduced this framework to address the vulnerabilities of earlier methods. Unlike k-anonymity, differential privacy **adds controlled noise to data**, ensuring that the inclusion or exclusion of any individual’s data has minimal impact on the outcome. This approach provides strong mathematical guarantees, making it much harder for adversaries to identify individuals, even with external data. It has become the gold standard in privacy protection for data analysis."
   ]
  },
  {
   "cell_type": "markdown",
   "id": "cb14e423-88fe-4c1b-baaf-249fd03914f5",
   "metadata": {},
   "source": [
    "**1) Sensitivity**"
   ]
  },
  {
   "cell_type": "markdown",
   "id": "67f79a74-7f66-40c9-bc42-abeb10a3f1ed",
   "metadata": {},
   "source": [
    "One of the core concepts behind differential privacy is **sensitivity**, which determines how much a query result can be influenced by a single individual's data. There are two main types:\n",
    "\n",
    "* **Global L1 sensitivity** of a function is a measure of how much the result of that function can change when a single individual is added or removed from a database\n",
    "\n",
    "$$\n",
    "\\Delta_1 f = \\max_{D, D'} \\| f(D) - f(D') \\|_1\n",
    "$$\n",
    "Where:\n",
    "- D and D' are datasets differing by one record\n",
    "- 𝑓 is a function applied to the dataset\n",
    "- || ||1 represents the L1 norm\n",
    "\n",
    "\n",
    "Usage:\n",
    "L1 sensitivity is used when applying **Laplace noise**, since the Laplace mechanism preserves ε-differential privacy with noise proportional to Δ1f\n",
    "  \n",
    "* **Global L2 Sensitivity** measures the maximum change using the Euclidean distance (square root of squared differences), typically used for more complex queries\n",
    "\n",
    "$$\n",
    "\\Delta_2 f = \\max_{D, D'} \\| f(D) - f(D') \\|_2\n",
    "$$\n",
    "Where:\n",
    "- || ||2 represents the L2 norm (Euclidean distance)\n",
    "\n",
    "\n",
    "Usage: L2 sensitivity is used when applying **Gaussian noise**, since the Gaussian mechanism preserves \n",
    "((ε,δ))-differential privacy with noise proportional to Δ2f"
   ]
  },
  {
   "cell_type": "markdown",
   "id": "75ba38de-01ed-4f96-acf8-6e1dc57e80c4",
   "metadata": {},
   "source": [
    "---------------------------------------------------------------------------------"
   ]
  },
  {
   "cell_type": "markdown",
   "id": "5a32d373-edf8-47c0-8c07-2f50a8f9d7b0",
   "metadata": {},
   "source": [
    "**L1 global sensitivity example:**\n",
    "\n",
    "| Employee | Salary |\n",
    "|----------|--------|\n",
    "| 1        | 50     |\n",
    "| 2        | 60     |\n",
    "| 3        | 70     |\n",
    "\n",
    "Original sum: S(D) = 50 + 60 + 70 = 180\n",
    "  \n",
    "**Case 1: Remove Employee 1**\n",
    "\n",
    "| Employee | Salary |\n",
    "|----------|--------|\n",
    "| 2        | 60     |\n",
    "| 3        | 70     |\n",
    "\n",
    "- New sum:  S(D') = 60 + 70 = 130\n",
    "- Change: ΔS = |180 - 130| = 50\n",
    "\n",
    "**Case 2: Add Employee 4 with Salary 100**\n",
    "\n",
    "| Employee | Salary |\n",
    "|----------|--------|\n",
    "| 1        | 50     |\n",
    "| 2        | 60     |\n",
    "| 3        | 70     |\n",
    "| 4        | 100    |\n",
    "\n",
    "- New sum: S(D'') = 50 + 60 + 70 + 100 = 280\n",
    "- Change: ΔS = |180 - 280| = 100\n",
    "\n",
    "The L1 sensitivity is the maximum change in the sum, which is: **L1 Sensitivity = max(50, 100) = 100**"
   ]
  },
  {
   "cell_type": "markdown",
   "id": "ad1ed3bc-bcdd-4e35-ba0e-ee49e9f96380",
   "metadata": {},
   "source": [
    "&nbsp;"
   ]
  },
  {
   "cell_type": "markdown",
   "id": "dbe3de9c-c2be-4ae7-a074-236167fb5183",
   "metadata": {},
   "source": [
    "**2) Laplace mechanism**"
   ]
  },
  {
   "cell_type": "markdown",
   "id": "6318a9f5-2706-48f6-a301-f9fe3570ac0c",
   "metadata": {},
   "source": [
    "The `Laplace Mechanism` is a method in differential privacy that adds noise drawn from the Laplace distribution to a query result. The noise scale is determined by the L1 sensitivity of the function and the privacy parameter epsilon\n",
    "\n",
    "Epsilon (ε) controls the privacy-accuracy tradeoff:\n",
    "\n",
    "* **Smaller ε** (ex : 0.1) → More noise → Stronger privacy \n",
    "* **Larger ε** (ex : 1.0) → Less noise → Higher accuracy \n",
    "\n",
    "The Laplace noise is sampled from Lap(0,Δ𝑓/𝜖), where Δ𝑓 is the L1 sensitivity of the function"
   ]
  },
  {
   "cell_type": "code",
   "execution_count": 8,
   "id": "c4a88254-1f8d-484e-baff-1c550dad8d58",
   "metadata": {},
   "outputs": [],
   "source": [
    "#implementation of the Laplace mechanism\n",
    "def laplace_mech(v, sensitivity, epsilon):\n",
    "    return v + np.random.laplace(loc=0, scale=sensitivity / epsilon)"
   ]
  },
  {
   "cell_type": "code",
   "execution_count": 9,
   "id": "2f2272da-45d8-4608-baa6-1d6e258201cf",
   "metadata": {},
   "outputs": [
    {
     "data": {
      "text/html": [
       "<div>\n",
       "<style scoped>\n",
       "    .dataframe tbody tr th:only-of-type {\n",
       "        vertical-align: middle;\n",
       "    }\n",
       "\n",
       "    .dataframe tbody tr th {\n",
       "        vertical-align: top;\n",
       "    }\n",
       "\n",
       "    .dataframe thead th {\n",
       "        text-align: right;\n",
       "    }\n",
       "</style>\n",
       "<table border=\"1\" class=\"dataframe\">\n",
       "  <thead>\n",
       "    <tr style=\"text-align: right;\">\n",
       "      <th></th>\n",
       "      <th>ID</th>\n",
       "      <th>Age</th>\n",
       "      <th>Workclass</th>\n",
       "      <th>fnlwgt</th>\n",
       "      <th>Education</th>\n",
       "      <th>Education-Num</th>\n",
       "      <th>Marital Status</th>\n",
       "      <th>Occupation</th>\n",
       "      <th>Relationship</th>\n",
       "      <th>Race</th>\n",
       "      <th>Sex</th>\n",
       "      <th>Capital Gain</th>\n",
       "      <th>Capital Loss</th>\n",
       "      <th>Hours per week</th>\n",
       "      <th>Country</th>\n",
       "      <th>Target</th>\n",
       "    </tr>\n",
       "  </thead>\n",
       "  <tbody>\n",
       "    <tr>\n",
       "      <th>0</th>\n",
       "      <td>d8373cad</td>\n",
       "      <td>39</td>\n",
       "      <td>State-gov</td>\n",
       "      <td>77516</td>\n",
       "      <td>Bachelors</td>\n",
       "      <td>13</td>\n",
       "      <td>Never-married</td>\n",
       "      <td>Adm-clerical</td>\n",
       "      <td>Not-in-family</td>\n",
       "      <td>White</td>\n",
       "      <td>Male</td>\n",
       "      <td>2174</td>\n",
       "      <td>0</td>\n",
       "      <td>40</td>\n",
       "      <td>United-States</td>\n",
       "      <td>&lt;=50K</td>\n",
       "    </tr>\n",
       "    <tr>\n",
       "      <th>1</th>\n",
       "      <td>facff35e</td>\n",
       "      <td>50</td>\n",
       "      <td>Self-emp-not-inc</td>\n",
       "      <td>83311</td>\n",
       "      <td>Bachelors</td>\n",
       "      <td>13</td>\n",
       "      <td>Married-civ-spouse</td>\n",
       "      <td>Exec-managerial</td>\n",
       "      <td>Husband</td>\n",
       "      <td>White</td>\n",
       "      <td>Male</td>\n",
       "      <td>0</td>\n",
       "      <td>0</td>\n",
       "      <td>13</td>\n",
       "      <td>United-States</td>\n",
       "      <td>&lt;=50K</td>\n",
       "    </tr>\n",
       "    <tr>\n",
       "      <th>2</th>\n",
       "      <td>6a22cf1e</td>\n",
       "      <td>38</td>\n",
       "      <td>Private</td>\n",
       "      <td>215646</td>\n",
       "      <td>HS-grad</td>\n",
       "      <td>9</td>\n",
       "      <td>Divorced</td>\n",
       "      <td>Handlers-cleaners</td>\n",
       "      <td>Not-in-family</td>\n",
       "      <td>White</td>\n",
       "      <td>Male</td>\n",
       "      <td>0</td>\n",
       "      <td>0</td>\n",
       "      <td>40</td>\n",
       "      <td>United-States</td>\n",
       "      <td>&lt;=50K</td>\n",
       "    </tr>\n",
       "  </tbody>\n",
       "</table>\n",
       "</div>"
      ],
      "text/plain": [
       "         ID  Age         Workclass  fnlwgt  Education  Education-Num  \\\n",
       "0  d8373cad   39         State-gov   77516  Bachelors             13   \n",
       "1  facff35e   50  Self-emp-not-inc   83311  Bachelors             13   \n",
       "2  6a22cf1e   38           Private  215646    HS-grad              9   \n",
       "\n",
       "       Marital Status         Occupation   Relationship   Race   Sex  \\\n",
       "0       Never-married       Adm-clerical  Not-in-family  White  Male   \n",
       "1  Married-civ-spouse    Exec-managerial        Husband  White  Male   \n",
       "2            Divorced  Handlers-cleaners  Not-in-family  White  Male   \n",
       "\n",
       "   Capital Gain  Capital Loss  Hours per week        Country Target  \n",
       "0          2174             0              40  United-States  <=50K  \n",
       "1             0             0              13  United-States  <=50K  \n",
       "2             0             0              40  United-States  <=50K  "
      ]
     },
     "execution_count": 9,
     "metadata": {},
     "output_type": "execute_result"
    }
   ],
   "source": [
    "data_WDI = pd.read_csv(\"D:/PORTFOLIO/project02-data-anonymization/data_resources/pseudonymized_data.csv\")\n",
    "data_WDI = data_WDI.dropna()\n",
    "data_WDI.head(3)"
   ]
  },
  {
   "cell_type": "markdown",
   "id": "4ab0fdf1-5557-4f5c-a376-c8d011cf8ef5",
   "metadata": {},
   "source": [
    "We implement a function `query_1`to answer the question: 'How many people have never been married?'"
   ]
  },
  {
   "cell_type": "code",
   "execution_count": 10,
   "id": "264526be-bbb1-4778-bdf3-371813193aac",
   "metadata": {},
   "outputs": [
    {
     "data": {
      "text/plain": [
       "9726"
      ]
     },
     "execution_count": 10,
     "metadata": {},
     "output_type": "execute_result"
    }
   ],
   "source": [
    "def query_1():\n",
    "    return len(data_WDI[data_WDI[\"Marital Status\"]==\"Never-married\"])\n",
    "    \n",
    "query_1()"
   ]
  },
  {
   "cell_type": "code",
   "execution_count": 11,
   "id": "7ad17308-4dd6-4061-bf2a-9a5b85c6ef7c",
   "metadata": {},
   "outputs": [],
   "source": [
    "# unit test\n",
    "assert query_1() == 9726"
   ]
  },
  {
   "cell_type": "markdown",
   "id": "c4fca71e-0df5-43fa-b17c-4c0daec6f48d",
   "metadata": {},
   "source": [
    "&nbsp;\n",
    "\n",
    "We want to implement a differentially confidential query and graphically compare our results when we change the value of epsilon. We will study the accuracy of our differential query over 1000 calls."
   ]
  },
  {
   "cell_type": "markdown",
   "id": "4e1619a4-5ab6-46c8-9c0f-c0dfb13193ab",
   "metadata": {},
   "source": [
    "&nbsp;\n",
    "Here our global sensitivity L1 is 1, because with the change of a single person we can switch to a count of + or - 1 person who has never been married in the dataset. "
   ]
  },
  {
   "cell_type": "code",
   "execution_count": 12,
   "id": "0c282ab3-af67-42b6-a383-3192a59c18a0",
   "metadata": {},
   "outputs": [],
   "source": [
    "# Our differentially confidential query\n",
    "def query_1_dp(epsilon):\n",
    "    return laplace_mech(query_1(),1,epsilon)\n",
    "    \n",
    "# returns the relative error percentage between an original request and its private version\n",
    "def pct_error(orig, priv):\n",
    "    return 100.0*np.abs(orig - priv)/orig\n",
    "    \n",
    "def graph_error_1(epsilon):\n",
    "    list_errors = []\n",
    "    \n",
    "    for _ in range(1000):  \n",
    "        orig = query_1()  \n",
    "        priv = query_1_dp(epsilon)  \n",
    "        list_errors.append(pct_error(orig, priv))  \n",
    "\n",
    "    plt.xlabel('Relative percentage error (%)')\n",
    "    plt.ylabel('Frequency')\n",
    "    \n",
    "    # Create histogram\n",
    "    counts, bin_edges, patches = plt.hist(list_errors, bins=20, alpha=0.5, edgecolor=\"black\")\n",
    "\n",
    "    # Add labels on top of bars\n",
    "    for i in range(len(counts)):  \n",
    "        plt.text(bin_edges[i] + (bin_edges[1] - bin_edges[0]) / 2, counts[i], \n",
    "                 f'{int(counts[i])}', ha='center', va='bottom', fontsize=10)\n",
    "\n",
    "    plt.show()"
   ]
  },
  {
   "cell_type": "markdown",
   "id": "b9ddada0-d3ec-4037-a319-883d16d59209",
   "metadata": {},
   "source": [
    "How accurate are the results of our 1000 queries with epsilon = 0.1 and epsilon = 1.0?"
   ]
  },
  {
   "cell_type": "code",
   "execution_count": 13,
   "id": "3a81433f-8128-47cf-b0ab-9de509a5920e",
   "metadata": {
    "scrolled": true
   },
   "outputs": [
    {
     "data": {
      "image/png": "[encoded data removed]",
      "text/plain": [
       "<Figure size 640x480 with 1 Axes>"
      ]
     },
     "metadata": {},
     "output_type": "display_data"
    }
   ],
   "source": [
    "graph_error_1(0.1)"
   ]
  },
  {
   "cell_type": "code",
   "execution_count": 14,
   "id": "b251e9ba-a29a-4d6c-b52e-ff3099015e41",
   "metadata": {},
   "outputs": [
    {
     "data": {
      "image/png": "[encoded data removed]",
      "text/plain": [
       "<Figure size 640x480 with 1 Axes>"
      ]
     },
     "metadata": {},
     "output_type": "display_data"
    }
   ],
   "source": [
    "graph_error_1(1.0)"
   ]
  },
  {
   "cell_type": "markdown",
   "id": "a545fd0e-3c78-451b-af7c-d4e13f4a963d",
   "metadata": {},
   "source": [
    "For ε = 1.0, most relative error percentages fall between 0% and 0.05%, whereas for ε = 0.1, they are mostly between 0% and 0.5%. A smaller ε value results in a higher relative error. This suggests that ε = 1.0 provides more accurate results but reduces data confidentiality. \n",
    "\n",
    "In conclusion, as ε approaches 0, the generated data becomes less accurate, ensuring greater confidentiality\n",
    "\n",
    "Having established the fundamentals of differential privacy and the Laplace mechanism, we now will be exploring how these principles can be applied in practical machine learning settings. One notable framework that leverages differential privacy is Private Aggregation of Teacher Ensembles (PATE).\n",
    "\n",
    "&nbsp;"
   ]
  },
  {
   "cell_type": "markdown",
   "id": "bb4fd51a-6bb0-46ba-8460-06cbf73e36ae",
   "metadata": {},
   "source": [
    "**3) PATE framework** "
   ]
  },
  {
   "cell_type": "markdown",
   "id": "f760864a-2933-40f2-99e6-ceae4c6e4bc9",
   "metadata": {},
   "source": [
    "The **[`PATE framework`](https://www.cleverhans.io/privacy/2018/04/29/privacy-and-machine-learning.html)(Private Aggregation of Teacher Ensembles)** is designed for **training machine learning models**. It uses a collection of teacher models, each trained on disjoint subsets of the data. During the inference phase, these teacher models collaboratively vote on the output, and **differential privacy** is applied to the aggregation of their predictions. The result is a mechanism that can be used to train a student model in a privacy-preserving manner, offering privacy guarantees for the original data while maintaining the predictive power of the model. By carefully **controlling the amount of noise added** to the aggregation process, PATE ensures that individual data points remain protected, even as the model learns from the ensemble.\n",
    "\n",
    "In the following sections, we will explore the fundamental aspects of PATE, its privacy-preserving mechanisms, and its practical application using a RandomForestClassifier on the Bike Sharing dataset. Through this example, we will demonstrate how PATE can be effectively utilized in real-world scenarios while balancing privacy and model performance.\n"
   ]
  },
  {
   "cell_type": "code",
   "execution_count": 15,
   "id": "ed402446-ab17-4244-8641-ef3da6c7137e",
   "metadata": {},
   "outputs": [
    {
     "data": {
      "image/png": "[encoded data removed]",
      "text/plain": [
       "<Figure size 640x480 with 1 Axes>"
      ]
     },
     "metadata": {},
     "output_type": "display_data"
    }
   ],
   "source": [
    "# Specify the path to the image\n",
    "image_path = \"D:/PORTFOLIO/project02-data-anonymization/data_resources/pate-aggregation.gif\"\n",
    "\n",
    "# Read the image\n",
    "img = mpimg.imread(image_path)\n",
    "\n",
    "# Display the image\n",
    "plt.imshow(img)\n",
    "plt.axis('off')  # Hide axes\n",
    "plt.show()"
   ]
  },
  {
   "cell_type": "markdown",
   "id": "ab333140-eaa1-4c13-8c7f-a43538475bbf",
   "metadata": {},
   "source": [
    "**a) Preprocessing**"
   ]
  },
  {
   "cell_type": "markdown",
   "id": "93bd4abe-d3d6-45e5-8241-291b1d1d8728",
   "metadata": {},
   "source": [
    "For this last part, we will use the  dataset [`UCI Bike sharing`](https://archive.ics.uci.edu/ml/datasets/bike+sharing+dataset). We will use this dataset to predict whether the number of bixi users per hour is greater than a certain number (in this case the median)."
   ]
  },
  {
   "cell_type": "code",
   "execution_count": 16,
   "id": "f47f897f-c7b7-47f6-923e-8fc8da9c344d",
   "metadata": {},
   "outputs": [
    {
     "data": {
      "text/html": [
       "<div>\n",
       "<style scoped>\n",
       "    .dataframe tbody tr th:only-of-type {\n",
       "        vertical-align: middle;\n",
       "    }\n",
       "\n",
       "    .dataframe tbody tr th {\n",
       "        vertical-align: top;\n",
       "    }\n",
       "\n",
       "    .dataframe thead th {\n",
       "        text-align: right;\n",
       "    }\n",
       "</style>\n",
       "<table border=\"1\" class=\"dataframe\">\n",
       "  <thead>\n",
       "    <tr style=\"text-align: right;\">\n",
       "      <th></th>\n",
       "      <th>instant</th>\n",
       "      <th>dteday</th>\n",
       "      <th>season</th>\n",
       "      <th>yr</th>\n",
       "      <th>mnth</th>\n",
       "      <th>hr</th>\n",
       "      <th>holiday</th>\n",
       "      <th>weekday</th>\n",
       "      <th>workingday</th>\n",
       "      <th>weathersit</th>\n",
       "      <th>temp</th>\n",
       "      <th>atemp</th>\n",
       "      <th>hum</th>\n",
       "      <th>windspeed</th>\n",
       "      <th>casual</th>\n",
       "      <th>registered</th>\n",
       "      <th>cnt</th>\n",
       "    </tr>\n",
       "  </thead>\n",
       "  <tbody>\n",
       "    <tr>\n",
       "      <th>0</th>\n",
       "      <td>1</td>\n",
       "      <td>2011-01-01</td>\n",
       "      <td>1</td>\n",
       "      <td>0</td>\n",
       "      <td>1</td>\n",
       "      <td>0</td>\n",
       "      <td>0</td>\n",
       "      <td>6</td>\n",
       "      <td>0</td>\n",
       "      <td>1</td>\n",
       "      <td>0.24</td>\n",
       "      <td>0.2879</td>\n",
       "      <td>0.81</td>\n",
       "      <td>0.0</td>\n",
       "      <td>3</td>\n",
       "      <td>13</td>\n",
       "      <td>16</td>\n",
       "    </tr>\n",
       "    <tr>\n",
       "      <th>1</th>\n",
       "      <td>2</td>\n",
       "      <td>2011-01-01</td>\n",
       "      <td>1</td>\n",
       "      <td>0</td>\n",
       "      <td>1</td>\n",
       "      <td>1</td>\n",
       "      <td>0</td>\n",
       "      <td>6</td>\n",
       "      <td>0</td>\n",
       "      <td>1</td>\n",
       "      <td>0.22</td>\n",
       "      <td>0.2727</td>\n",
       "      <td>0.80</td>\n",
       "      <td>0.0</td>\n",
       "      <td>8</td>\n",
       "      <td>32</td>\n",
       "      <td>40</td>\n",
       "    </tr>\n",
       "    <tr>\n",
       "      <th>2</th>\n",
       "      <td>3</td>\n",
       "      <td>2011-01-01</td>\n",
       "      <td>1</td>\n",
       "      <td>0</td>\n",
       "      <td>1</td>\n",
       "      <td>2</td>\n",
       "      <td>0</td>\n",
       "      <td>6</td>\n",
       "      <td>0</td>\n",
       "      <td>1</td>\n",
       "      <td>0.22</td>\n",
       "      <td>0.2727</td>\n",
       "      <td>0.80</td>\n",
       "      <td>0.0</td>\n",
       "      <td>5</td>\n",
       "      <td>27</td>\n",
       "      <td>32</td>\n",
       "    </tr>\n",
       "  </tbody>\n",
       "</table>\n",
       "</div>"
      ],
      "text/plain": [
       "   instant      dteday  season  yr  mnth  hr  holiday  weekday  workingday  \\\n",
       "0        1  2011-01-01       1   0     1   0        0        6           0   \n",
       "1        2  2011-01-01       1   0     1   1        0        6           0   \n",
       "2        3  2011-01-01       1   0     1   2        0        6           0   \n",
       "\n",
       "   weathersit  temp   atemp   hum  windspeed  casual  registered  cnt  \n",
       "0           1  0.24  0.2879  0.81        0.0       3          13   16  \n",
       "1           1  0.22  0.2727  0.80        0.0       8          32   40  \n",
       "2           1  0.22  0.2727  0.80        0.0       5          27   32  "
      ]
     },
     "execution_count": 16,
     "metadata": {},
     "output_type": "execute_result"
    }
   ],
   "source": [
    "# Specify the path to your CSV file\n",
    "file_path = \"D:/PORTFOLIO/project02-data-anonymization/data_resources/bikesharing.csv\"\n",
    "\n",
    "# Read the CSV file into a Pandas DataFrame\n",
    "df = pd.read_csv(file_path)\n",
    "\n",
    "df.head(3)"
   ]
  },
  {
   "cell_type": "markdown",
   "id": "f7b5f259-2d80-4ba7-9922-974205433e48",
   "metadata": {},
   "source": [
    "We load the dataset and convert it into a binary classification problem, where we predict if the number of bike-sharing users per hour is greater than the median."
   ]
  },
  {
   "cell_type": "code",
   "execution_count": 17,
   "id": "5ce529d1-3853-4dbe-9a37-f5a7ebe7f126",
   "metadata": {},
   "outputs": [],
   "source": [
    "# change into a classification problemCliquez pour utiliser cette solution\n",
    "df[\"cnt\"] = df[\"cnt\"].apply(lambda x: 0 if x < df.cnt.median() else 1 )"
   ]
  },
  {
   "cell_type": "code",
   "execution_count": 18,
   "id": "c07c98b5-1054-42b8-80c0-0a9647c175e7",
   "metadata": {},
   "outputs": [
    {
     "data": {
      "text/html": [
       "<div>\n",
       "<style scoped>\n",
       "    .dataframe tbody tr th:only-of-type {\n",
       "        vertical-align: middle;\n",
       "    }\n",
       "\n",
       "    .dataframe tbody tr th {\n",
       "        vertical-align: top;\n",
       "    }\n",
       "\n",
       "    .dataframe thead th {\n",
       "        text-align: right;\n",
       "    }\n",
       "</style>\n",
       "<table border=\"1\" class=\"dataframe\">\n",
       "  <thead>\n",
       "    <tr style=\"text-align: right;\">\n",
       "      <th></th>\n",
       "      <th>season</th>\n",
       "      <th>yr</th>\n",
       "      <th>mnth</th>\n",
       "      <th>hr</th>\n",
       "      <th>holiday</th>\n",
       "      <th>weekday</th>\n",
       "      <th>workingday</th>\n",
       "      <th>weathersit</th>\n",
       "      <th>temp</th>\n",
       "      <th>atemp</th>\n",
       "      <th>hum</th>\n",
       "      <th>windspeed</th>\n",
       "      <th>casual</th>\n",
       "      <th>registered</th>\n",
       "      <th>cnt</th>\n",
       "    </tr>\n",
       "  </thead>\n",
       "  <tbody>\n",
       "    <tr>\n",
       "      <th>10151</th>\n",
       "      <td>1</td>\n",
       "      <td>1</td>\n",
       "      <td>3</td>\n",
       "      <td>1</td>\n",
       "      <td>0</td>\n",
       "      <td>0</td>\n",
       "      <td>0</td>\n",
       "      <td>2</td>\n",
       "      <td>0.38</td>\n",
       "      <td>0.3939</td>\n",
       "      <td>0.34</td>\n",
       "      <td>0.1940</td>\n",
       "      <td>16</td>\n",
       "      <td>60</td>\n",
       "      <td>0</td>\n",
       "    </tr>\n",
       "    <tr>\n",
       "      <th>14247</th>\n",
       "      <td>3</td>\n",
       "      <td>1</td>\n",
       "      <td>8</td>\n",
       "      <td>20</td>\n",
       "      <td>0</td>\n",
       "      <td>2</td>\n",
       "      <td>1</td>\n",
       "      <td>1</td>\n",
       "      <td>0.64</td>\n",
       "      <td>0.6061</td>\n",
       "      <td>0.73</td>\n",
       "      <td>0.0000</td>\n",
       "      <td>62</td>\n",
       "      <td>296</td>\n",
       "      <td>1</td>\n",
       "    </tr>\n",
       "    <tr>\n",
       "      <th>5396</th>\n",
       "      <td>3</td>\n",
       "      <td>0</td>\n",
       "      <td>8</td>\n",
       "      <td>18</td>\n",
       "      <td>0</td>\n",
       "      <td>3</td>\n",
       "      <td>1</td>\n",
       "      <td>1</td>\n",
       "      <td>0.76</td>\n",
       "      <td>0.6970</td>\n",
       "      <td>0.55</td>\n",
       "      <td>0.2537</td>\n",
       "      <td>86</td>\n",
       "      <td>470</td>\n",
       "      <td>1</td>\n",
       "    </tr>\n",
       "  </tbody>\n",
       "</table>\n",
       "</div>"
      ],
      "text/plain": [
       "       season  yr  mnth  hr  holiday  weekday  workingday  weathersit  temp  \\\n",
       "10151       1   1     3   1        0        0           0           2  0.38   \n",
       "14247       3   1     8  20        0        2           1           1  0.64   \n",
       "5396        3   0     8  18        0        3           1           1  0.76   \n",
       "\n",
       "        atemp   hum  windspeed  casual  registered  cnt  \n",
       "10151  0.3939  0.34     0.1940      16          60    0  \n",
       "14247  0.6061  0.73     0.0000      62         296    1  \n",
       "5396   0.6970  0.55     0.2537      86         470    1  "
      ]
     },
     "execution_count": 18,
     "metadata": {},
     "output_type": "execute_result"
    }
   ],
   "source": [
    "df.drop(['instant', 'dteday'], axis=1, inplace=True)\n",
    "df = df.dropna()\n",
    "df = shuffle(df)\n",
    "df.head(3)"
   ]
  },
  {
   "cell_type": "markdown",
   "id": "0f08cc52-e8c0-4733-b077-8f2cf6ea218f",
   "metadata": {},
   "source": [
    "**b)Defining the Laplace Mechanism for Differential Privacy**"
   ]
  },
  {
   "cell_type": "code",
   "execution_count": 19,
   "id": "9dfd6c64-6b44-44a2-8386-837c887c500f",
   "metadata": {},
   "outputs": [],
   "source": [
    "y = df[\"cnt\"]\n",
    "X = df.drop([\"cnt\",], axis=1)"
   ]
  },
  {
   "cell_type": "code",
   "execution_count": 20,
   "id": "6c451a56-0705-48c1-85a9-83c6dc97c3be",
   "metadata": {},
   "outputs": [],
   "source": [
    "def laplace_mech_vec(vec, sensitivity, epsilon):\n",
    "    v = []\n",
    "    for x in vec:\n",
    "        v.append(laplace_mech(x, sensitivity, epsilon))\n",
    "    return v"
   ]
  },
  {
   "cell_type": "markdown",
   "id": "7e1a0dfe-68ba-4aaa-808b-b9a43358f5c1",
   "metadata": {},
   "source": [
    "We divide our sensitive dataset into multiple disjoint subsets, ensuring that each subset contains unique data points with no overlap between them"
   ]
  },
  {
   "cell_type": "code",
   "execution_count": 21,
   "id": "4903e6de-f32a-4ff5-9eb6-9edc9c250901",
   "metadata": {},
   "outputs": [],
   "source": [
    "#Partition the dataset for each teacher\n",
    "def partition_dataset(data, labels, nb_teachers, teacher_id):\n",
    "\n",
    "    # Sanity check\n",
    "    assert len(data) == len(labels)\n",
    "    assert int(teacher_id) < int(nb_teachers)\n",
    "\n",
    "    # This will floor the possible number of batches\n",
    "    batch_len = int(len(data) / nb_teachers)\n",
    "\n",
    "    # Compute start, end indices of partition\n",
    "    start = teacher_id * batch_len\n",
    "    end = (teacher_id+1) * batch_len\n",
    "\n",
    "    # Slice partition off\n",
    "    partition_data = data[start:end]\n",
    "    partition_labels = labels[start:end]\n",
    "\n",
    "    return partition_data, partition_labels"
   ]
  },
  {
   "cell_type": "markdown",
   "id": "c5f49c3b-7cd0-4bec-8de0-b5e52b9aaea3",
   "metadata": {},
   "source": [
    "**c) Train Teacher Models**"
   ]
  },
  {
   "cell_type": "code",
   "execution_count": 22,
   "id": "d1643a43-b0da-4a28-a7d8-e642a7593359",
   "metadata": {},
   "outputs": [],
   "source": [
    "#Return the list of teachers' models\n",
    "def getListTeachers(X, y, nb_teachers):\n",
    "    \n",
    "    list_Teachers = []\n",
    "    \n",
    "    for i in range(0,nb_teachers):\n",
    "        data, labels = partition_dataset(X, y, nb_teachers, i)\n",
    "        X_train, X_test, y_train, y_test = train_test_split(data, labels, test_size=0.2,shuffle=False)\n",
    "        \n",
    "        #Training the model \n",
    "        clf = RFC(n_estimators=100)\n",
    "        model = clf.fit(X_train,y_train)\n",
    "        \n",
    "        list_Teachers.append(model)\n",
    "    \n",
    "    return list_Teachers  "
   ]
  },
  {
   "cell_type": "code",
   "execution_count": 23,
   "id": "c822d8ad-6397-49d9-9c9e-331563d9f007",
   "metadata": {},
   "outputs": [],
   "source": [
    "# Returns the score counter assigned by the teachers\n",
    "def score(elem, teachers) : \n",
    "    score=[0,0]\n",
    "    # score[0] : counter 0\n",
    "    # score[1] : counter 1\n",
    "    \n",
    "    for t in teachers:\n",
    "        pred_elem = t.predict(elem) #predict 0 or 1\n",
    "\n",
    "        if (pred_elem==0):\n",
    "            score[0] = score[0]+1\n",
    "        if (pred_elem==1):\n",
    "            score[1] = score[1]+1\n",
    "\n",
    "    return score "
   ]
  },
  {
   "cell_type": "code",
   "execution_count": 24,
   "id": "37eb18b3-3d08-4137-b15a-cb5193cc9eb2",
   "metadata": {},
   "outputs": [],
   "source": [
    "# Returns the noisy item with the highest score \n",
    "def report_noisy_max(res, sensitivity, epsilon):\n",
    "    noisy_res=[]\n",
    "    \n",
    "    for i in range(0,len(res)):\n",
    "        new_score = res[i] + laplace_mech(len(res), sensitivity, 1/epsilon)\n",
    "        noisy_res.append(new_score)\n",
    "    \n",
    "    if(noisy_res[0]>noisy_res[1]):\n",
    "        return 0\n",
    "    else :\n",
    "        return 1"
   ]
  },
  {
   "cell_type": "code",
   "execution_count": 25,
   "id": "49a90c48-99bb-406c-b429-3f32576b7f86",
   "metadata": {},
   "outputs": [],
   "source": [
    "# Returns the item with the highest score \n",
    "def report_max(res):\n",
    "    if(res[0]>res[1]):\n",
    "        return 0\n",
    "    else :\n",
    "        return 1"
   ]
  },
  {
   "cell_type": "code",
   "execution_count": 26,
   "id": "164aedb4-b39f-436a-b7f7-0ab327a4fd8d",
   "metadata": {},
   "outputs": [],
   "source": [
    "#We split our data\n",
    "teachers_ratio = 0.50 #50% for the teachers\n",
    "student_ratio = 0.25 #25% for the student\n",
    "test_ratio = 0.25 #25% for the test\n",
    "\n",
    "X_teachers, X_test, y_teachers, y_test = train_test_split(X, y, test_size=1 - teachers_ratio,shuffle=False)\n",
    "\n",
    "X_student, X_test, y_student, y_test = train_test_split(X_test, y_test, test_size=test_ratio/(test_ratio + student_ratio),shuffle=False) "
   ]
  },
  {
   "cell_type": "code",
   "execution_count": 27,
   "id": "d2aae921-7469-40f4-abc3-fac579129e00",
   "metadata": {},
   "outputs": [],
   "source": [
    "#We train a ML model (random forest), called a teacher, on each of these partitions\n",
    "\n",
    "# If we partition our dataset into 3 teachers\n",
    "nb_teachers = 3\n",
    "\n",
    "# We train our teachers\n",
    "list_teachers = getListTeachers(X_teachers, y_teachers, nb_teachers)"
   ]
  },
  {
   "cell_type": "markdown",
   "id": "d7f49ae4-5602-4e24-80f4-0fd2d2044a5a",
   "metadata": {},
   "source": [
    "**d) Aggregate Teacher Outputs**"
   ]
  },
  {
   "cell_type": "code",
   "execution_count": 28,
   "id": "4399d869-98f2-4258-8893-79469daad985",
   "metadata": {},
   "outputs": [
    {
     "name": "stdout",
     "output_type": "stream",
     "text": [
      "NOISY : \n",
      "[1, 1, 1, 0, 1, 1, 0, 0, 1, 0, 0, 0, 1, 1, 0, 1, 0, 0, 0, 0, 0, 1, 1, 1, 1, 0, 1, 1, 1, 0, 0, 1, 1, 0, 1, 0, 1, 0, 0, 0, 1, 1, 0, 1, 0, 1, 0, 0, 1, 1, 1, 1, 1, 0, 0, 1, 1, 1, 1, 1, 0, 1, 0, 0, 1, 0, 1, 1, 0, 1, 1, 1, 1, 0, 0, 0, 1, 1, 1, 0, 0, 1, 1, 1, 0, 0, 1, 1, 0, 1, 0, 0, 1, 0, 1, 0, 1, 0, 0, 1, 0, 1, 1, 0, 1, 0, 0, 1, 1, 1, 0, 1, 1, 1, 1, 1, 0, 0, 1, 0, 0, 1, 1, 0, 0, 0, 0, 1, 1, 0, 0, 0, 1, 0, 0, 0, 0, 1, 0, 0, 1, 0, 1, 0, 0, 0, 0, 0, 0, 1, 1, 0, 1, 1, 0, 0, 0, 1, 0, 0, 1, 0, 1, 0, 1, 0, 0, 0, 0, 0, 0, 0, 0, 1, 1, 0, 0, 0, 1, 1, 1, 0, 1, 0, 1, 1, 0, 1, 1, 0, 1, 1, 0, 1, 0, 0, 1, 1, 1, 1, 0, 0, 1, 0, 0, 0, 0, 0, 1, 0, 0, 1, 0, 1, 1, 0, 1, 1, 0, 0, 0, 1, 0, 0, 0, 1, 0, 0, 0, 0, 0, 1, 0, 1, 0, 0, 0, 0, 1, 1, 1, 0, 0, 1, 1, 0, 1, 1, 1, 1, 1, 0, 1, 1, 1, 1, 0, 0, 0, 0, 1, 0, 0, 0, 0, 0, 0, 1, 1, 1, 1, 0, 0, 0, 0, 1, 0, 1, 0, 1, 1, 1, 0, 1, 0, 0, 1, 1, 0, 0, 0, 0, 0, 1, 0, 1, 0, 0, 1, 1, 1, 0, 0, 0, 1, 0, 0, 1, 1, 1, 0, 1, 1, 0, 1, 1, 1, 1, 1, 0, 1, 0, 0, 0, 1, 0, 1, 1, 0, 1, 1, 0, 0, 0, 1, 1, 0, 0, 1, 0, 1, 1, 0, 1, 0, 1, 0, 1, 0, 0, 0, 0, 1, 0, 0, 0, 1, 1, 1, 1, 1, 1, 0, 1, 0, 1, 1, 0, 1, 1, 1, 1, 0, 0, 0, 0, 1, 1, 1, 0, 0, 0, 0, 1, 1, 0, 0, 0, 1, 1, 0, 1, 0, 1, 1, 0, 0, 0, 1, 0, 1, 0, 0, 1, 0, 0, 1, 1, 1, 1, 0, 1, 1, 1, 0, 1, 0, 0, 0, 1, 1, 0, 1, 0, 0, 1, 0, 1, 1, 1, 1, 0, 1, 1, 0, 0, 0, 1, 0, 1, 1, 0, 1, 0, 1, 0, 0, 0, 1, 0, 0, 0, 0, 0, 0, 0, 1, 1, 0, 0, 0, 1, 0, 0, 1, 0, 0, 1, 0, 0, 0, 0, 0, 1, 0, 1, 1, 0, 0, 1, 1, 0, 0, 0, 0, 1, 0, 1, 1, 0, 0, 0, 1, 0, 1, 1, 0, 1, 0, 0, 1, 1, 1, 1, 1, 1, 1, 1, 0, 0, 0, 1, 0, 1, 1, 0, 0, 0, 1, 1, 0, 1, 1, 1, 0, 0, 1, 1, 0, 1, 0, 0, 0, 1, 0, 0, 1, 1, 0, 1, 1, 1, 0, 1, 1, 1, 0, 0, 1, 0, 0, 1, 0, 0, 1, 0, 0, 0, 0, 1, 0, 0, 0, 0, 0, 0, 0, 0, 0, 1, 1, 1, 1, 0, 1, 1, 1, 0, 1, 1, 0, 0, 0, 1, 0, 0, 1, 0, 0, 0, 0, 1, 1, 0, 1, 1, 1, 0, 1, 0, 0, 1, 0, 0, 0, 0, 0, 0, 1, 0, 1, 1, 0, 1, 0, 0, 0, 0, 1, 1, 0, 0, 0, 1, 0, 1, 1, 0, 0, 1, 1, 1, 1, 1, 0, 0, 1, 0, 0, 0, 1, 0, 1, 1, 0, 0, 0, 1, 0, 1, 1, 1, 1, 1, 0, 0, 1, 0, 0, 0, 0, 0, 1, 0, 1, 1, 1, 1, 1, 0, 1, 0, 0, 0, 1, 1, 0, 0, 0, 1, 0, 1, 1, 0, 0, 0, 0, 1, 1, 0, 0, 0, 0, 1, 0, 0, 1, 0, 0, 0, 1, 1, 1, 0, 1, 1, 1, 0, 0, 1, 0, 0, 0, 0, 0, 0, 0, 1, 1, 0, 1, 1, 0, 0, 1, 0, 0, 0, 0, 0, 0, 0, 1, 1, 1, 1, 1, 0, 1, 0, 0, 1, 1, 0, 1, 0, 1, 1, 0, 0, 0, 0, 1, 1, 0, 0, 0, 0, 0, 1, 0, 1, 0, 1, 1, 0, 0, 0, 0, 1, 0, 1, 0, 0, 0, 1, 0, 1, 1, 1, 0, 1, 0, 1, 0, 1, 0, 1, 0, 0, 0, 0, 1, 1, 0, 0, 1, 1, 0, 1, 0, 1, 1, 0, 1, 1, 1, 1, 0, 0, 0, 1, 1, 1, 1, 1, 1, 1, 0, 1, 1, 1, 0, 0, 1, 1, 1, 1, 0, 0, 0, 0, 1, 0, 0, 1, 0, 0, 1, 0, 0, 1, 1, 0, 1, 0, 0, 0, 1, 0, 1, 0, 0, 1, 1, 0, 1, 0, 1, 1, 0, 1, 1, 1, 0, 0, 1, 1, 1, 0, 0, 1, 0, 1, 1, 1, 0, 1, 0, 1, 1, 0, 1, 0, 0, 0, 0, 0, 0, 1, 0, 1, 0, 0, 0, 0, 1, 1, 1, 1, 0, 1, 1, 0, 0, 1, 1, 0, 0, 0, 1, 0, 0, 1, 0, 0, 1, 0, 0, 1, 0, 1, 1, 1, 1, 0, 0, 1, 1, 1, 1, 0, 1, 0, 0, 0, 1, 0, 0, 0, 1, 1, 0, 0, 1, 1, 1, 0, 0, 1, 0, 0, 1, 0, 0, 0, 1, 1, 0, 0, 0, 1, 0, 1, 1, 1, 1, 1, 0, 0, 0, 0, 0, 0, 0, 0, 0, 1, 1, 0, 0, 0, 0, 0, 1, 0, 1, 0, 1, 1, 1, 1, 1, 0, 0, 1, 1, 1, 1, 1, 0, 1, 1, 0, 0, 1, 0, 1, 1, 0, 0, 1, 1, 1, 0, 0, 0, 0, 0, 1, 1, 0, 1, 1, 1, 1, 0, 0, 1, 1, 0, 0, 0, 0, 1, 0, 0, 0, 1, 1, 1, 1, 0, 1, 1, 1, 0, 0, 1, 0, 0, 1, 1, 1, 0, 1, 0, 1, 1, 0, 0, 1, 0, 0, 0, 0, 1, 0, 0, 0, 1, 0, 0, 0, 1, 0, 1, 1, 0, 1, 1, 1, 0, 0, 0, 0, 0, 1, 1, 1, 0, 1, 1, 0, 1, 1, 0, 1, 1, 0, 0, 1, 1, 1, 0, 0, 0, 1, 0, 0, 1, 0, 0, 1, 1, 1, 0, 1, 1, 0, 0, 1, 0, 1, 0, 1, 1, 1, 1, 0, 0, 0, 1, 1, 0, 1, 1, 1, 0, 0, 1, 0, 1, 1, 1, 1, 0, 0, 1, 1, 0, 0, 1, 0, 0, 1, 1, 1, 0, 1, 1, 0, 0, 1, 0, 0, 1, 0, 1, 0, 0, 0, 0, 0, 0, 0, 1, 1, 0, 0, 1, 1, 1, 1, 0, 0, 1, 1, 1, 0, 1, 0, 1, 0, 1, 0, 0, 0, 1, 1, 1, 1, 0, 1, 0, 1, 0, 1, 1, 1, 0, 1, 0, 1, 0, 0, 0, 0, 1, 0, 0, 0, 1, 1, 0, 1, 0, 1, 1, 1, 0, 0, 1, 1, 0, 1, 1, 1, 1, 0, 1, 0, 0, 0, 0, 1, 1, 1, 1, 1, 0, 0, 1, 1, 1, 0, 0, 1, 0, 0, 0, 1, 0, 1, 0, 1, 1, 0, 1, 1, 0, 0, 1, 1, 0, 1, 0, 1, 1, 1, 0, 0, 1, 1, 0, 0, 0, 0, 1, 1, 1, 1, 0, 1, 1, 0, 1, 0, 0, 1, 0, 1, 0, 0, 0, 1, 1, 1, 0, 0, 1, 1, 1, 0, 1, 0, 0, 0, 1, 1, 1, 1, 1, 0, 0, 1, 0, 1, 0, 0, 1, 1, 1, 1, 0, 1, 1, 1, 1, 0, 1, 1, 1, 1, 1, 1, 0, 0, 1, 0, 1, 0, 0, 1, 1, 1, 0, 1, 1, 1, 1, 1, 0, 1, 1, 1, 0, 0, 0, 0, 1, 1, 0, 1, 1, 0, 1, 1, 0, 1, 0, 1, 0, 0, 0, 1, 0, 1, 1, 0, 0, 0, 1, 0, 1, 0, 0, 1, 0, 1, 1, 1, 0, 0, 0, 0, 1, 1, 1, 0, 1, 1, 1, 0, 0, 1, 0, 0, 0, 1, 1, 1, 0, 0, 0, 0, 1, 0, 0, 1, 1, 0, 0, 0, 1, 0, 0, 0, 0, 0, 1, 1, 1, 1, 0, 1, 0, 1, 0, 0, 0, 1, 1, 1, 1, 1, 0, 1, 0, 1, 1, 0, 1, 1, 1, 0, 0, 0, 1, 0, 1, 1, 1, 0, 0, 0, 1, 0, 0, 0, 1, 1, 0, 0, 1, 0, 1, 0, 0, 0, 0, 0, 1, 0, 1, 0, 1, 0, 1, 1, 1, 0, 0, 1, 0, 0, 1, 1, 0, 1, 0, 0, 0, 1, 0, 1, 0, 0, 0, 0, 1, 0, 1, 1, 0, 0, 0, 1, 0, 0, 1, 1, 1, 1, 0, 0, 1, 1, 1, 1, 0, 1, 1, 0, 0, 0, 1, 1, 0, 1, 1, 1, 0, 1, 1, 1, 0, 1, 0, 1, 1, 0, 1, 1, 1, 0, 0, 0, 0, 1, 1, 0, 1, 0, 0, 1, 1, 0, 0, 0, 1, 0, 1, 0, 0, 1, 0, 1, 1, 0, 0, 0, 0, 0, 1, 0, 0, 0, 1, 0, 1, 1, 0, 0, 1, 1, 0, 0, 1, 1, 1, 1, 0, 1, 0, 0, 0, 0, 1, 0, 1, 0, 0, 0, 1, 0, 0, 0, 0, 0, 1, 0, 0, 1, 1, 1, 0, 1, 0, 1, 1, 1, 1, 0, 0, 0, 1, 0, 0, 0, 1, 0, 0, 0, 0, 1, 1, 0, 0, 1, 0, 0, 0, 0, 1, 0, 1, 0, 1, 0, 1, 1, 0, 0, 1, 1, 1, 0, 0, 1, 1, 0, 0, 0, 1, 1, 0, 0, 0, 0, 0, 1, 1, 0, 1, 0, 1, 1, 1, 1, 0, 0, 1, 0, 0, 0, 0, 1, 0, 0, 0, 1, 1, 0, 1, 0, 1, 1, 0, 1, 0, 0, 1, 0, 0, 0, 0, 1, 0, 1, 1, 1, 1, 1, 1, 1, 0, 1, 1, 0, 0, 0, 1, 0, 0, 1, 0, 0, 0, 1, 1, 1, 0, 1, 0, 0, 0, 1, 0, 0, 1, 1, 0, 1, 0, 1, 0, 0, 0, 1, 0, 1, 1, 0, 1, 1, 1, 0, 1, 1, 1, 1, 0, 0, 0, 1, 0, 0, 1, 1, 0, 1, 0, 1, 0, 1, 1, 0, 0, 1, 0, 0, 1, 0, 0, 0, 1, 0, 0, 1, 0, 1, 1, 0, 1, 0, 0, 1, 0, 1, 1, 1, 0, 1, 0, 0, 0, 1, 0, 1, 1, 1, 1, 1, 1, 1, 1, 1, 0, 0, 0, 0, 1, 0, 1, 1, 0, 0, 1, 0, 0, 1, 0, 0, 0, 0, 0, 0, 1, 1, 1, 0, 1, 1, 1, 1, 1, 1, 1, 0, 0, 0, 0, 1, 1, 1, 1, 1, 1, 0, 1, 0, 1, 0, 1, 0, 1, 0, 0, 1, 1, 0, 1, 0, 1, 0, 1, 1, 0, 0, 0, 0, 0, 0, 1, 1, 1, 0, 0, 0, 0, 1, 1, 0, 1, 1, 0, 0, 0, 1, 0, 0, 0, 0, 1, 1, 1, 1, 1, 1, 1, 0, 0, 1, 1, 1, 0, 0, 1, 1, 1, 1, 0, 1, 0, 1, 1, 0, 1, 1, 0, 0, 0, 1, 0, 0, 0, 1, 0, 1, 0, 1, 0, 1, 0, 0, 0, 0, 1, 0, 1, 0, 1, 0, 0, 0, 0, 0, 0, 0, 0, 0, 1, 1, 1, 0, 0, 1, 0, 1, 1, 1, 0, 0, 0, 0, 1, 0, 1, 0, 0, 1, 1, 0, 1, 1, 1, 0, 1, 0, 1, 1, 0, 0, 1, 1, 1, 0, 1, 1, 1, 0, 1, 1, 1, 1, 0, 1, 0, 0, 0, 1, 1, 0, 0, 0, 0, 0, 0, 1, 1, 0, 1, 0, 0, 0, 1, 0, 0, 1, 1, 1, 0, 1, 1, 1, 1, 1, 0, 1, 1, 0, 1, 1, 1, 1, 1, 1, 0, 0, 1, 1, 0, 1, 1, 0, 0, 1, 0, 0, 1, 0, 0, 0, 1, 1, 1, 1, 1, 1, 1, 1, 1, 1, 0, 1, 1, 1, 0, 0, 0, 1, 1, 1, 0, 1, 1, 0, 1, 1, 1, 1, 1, 0, 0, 1, 0, 0, 0, 0, 0, 1, 0, 1, 1, 1, 0, 1, 0, 1, 0, 1, 0, 1, 1, 1, 0, 1, 1, 1, 0, 1, 0, 1, 1, 0, 1, 1, 0, 0, 1, 1, 1, 1, 1, 0, 1, 1, 0, 1, 1, 0, 0, 1, 0, 1, 0, 1, 0, 1, 0, 0, 0, 1, 1, 1, 0, 0, 0, 0, 0, 1, 0, 0, 0, 1, 0, 0, 1, 1, 0, 0, 0, 1, 1, 1, 0, 1, 1, 0, 0, 0, 0, 0, 1, 1, 1, 0, 0, 0, 0, 0, 0, 0, 1, 1, 0, 0, 1, 1, 1, 1, 1, 1, 0, 0, 1, 0, 1, 0, 0, 1, 1, 0, 0, 0, 0, 1, 0, 1, 1, 1, 0, 0, 1, 1, 1, 1, 1, 1, 1, 0, 0, 0, 1, 0, 0, 1, 1, 0, 1, 0, 0, 0, 0, 0, 1, 0, 0, 0, 0, 1, 1, 0, 1, 1, 0, 1, 1, 0, 0, 0, 1, 0, 1, 1, 1, 0, 0, 1, 0, 0, 1, 1, 1, 1, 1, 1, 1, 0, 0, 1, 0, 0, 0, 0, 1, 1, 1, 0, 0, 0, 0, 1, 0, 0, 0, 1, 0, 0, 1, 0, 1, 1, 0, 1, 1, 1, 0, 0, 0, 1, 0, 0, 1, 1, 1, 1, 0, 0, 0, 1, 0, 0, 0, 1, 1, 0, 1, 1, 1, 1, 1, 0, 1, 1, 0, 1, 1, 1, 0, 0, 1, 1, 1, 0, 1, 1, 0, 0, 0, 1, 0, 1, 0, 1, 0, 0, 1, 1, 0, 0, 1, 1, 0, 1, 1, 1, 1, 1, 0, 0, 1, 0, 0, 0, 0, 1, 1, 0, 0, 1, 0, 0, 1, 0, 0, 0, 1, 1, 1, 0, 0, 1, 0, 0, 0, 0, 0, 1, 1, 0, 0, 1, 1, 1, 1, 1, 0, 1, 1, 0, 1, 0, 1, 1, 0, 1, 0, 1, 1, 0, 0, 1, 0, 1, 1, 0, 0, 1, 0, 1, 1, 1, 0, 1, 1, 0, 0, 1, 1, 1, 0, 0, 1, 0, 1, 0, 1, 1, 1, 0, 1, 0, 1, 0, 1, 0, 0, 1, 0, 1, 0, 1, 1, 1, 1, 1, 0, 1, 1, 1, 1, 0, 0, 1, 0, 0, 0, 0, 0, 0, 1, 1, 1, 0, 0, 1, 1, 0, 1, 0, 0, 1, 0, 1, 0, 1, 1, 0, 1, 0, 0, 1, 1, 0, 0, 1, 1, 0, 0, 0, 1, 0, 0, 1, 1, 1, 1, 1, 0, 1, 1, 1, 1, 1, 1, 1, 1, 0, 0, 0, 1, 0, 0, 0, 0, 0, 1, 0, 1, 0, 1, 0, 1, 0, 1, 0, 1, 1, 1, 1, 0, 0, 1, 0, 1, 0, 0, 1, 1, 1, 1, 1, 0, 0, 1, 0, 1, 1, 0, 1, 0, 1, 0, 0, 1, 1, 0, 1, 1, 0, 1, 0, 0, 1, 1, 1, 1, 0, 1, 0, 1, 0, 0, 0, 1, 0, 1, 0, 0, 0, 0, 0, 1, 0, 0, 0, 1, 1, 0, 1, 0, 0, 1, 0, 1, 0, 1, 1, 1, 1, 0, 1, 1, 1, 1, 0, 0, 1, 0, 1, 0, 0, 0, 1, 1, 0, 1, 0, 1, 0, 1, 1, 0, 1, 0, 0, 1, 1, 0, 1, 0, 1, 1, 1, 0, 1, 1, 0, 1, 1, 0, 0, 0, 1, 1, 0, 1, 0, 1, 0, 1, 0, 0, 0, 0, 0, 0, 1, 1, 0, 1, 1, 0, 1, 1, 0, 1, 0, 1, 1, 1, 0, 1, 0, 1, 0, 1, 1, 1, 1, 1, 0, 1, 1, 1, 1, 0, 0, 1, 0, 1, 0, 0, 1, 1, 1, 0, 0, 1, 0, 0, 1, 0, 0, 1, 1, 0, 0, 1, 1, 1, 1, 0, 1, 1, 1, 0, 0, 0, 0, 1, 1, 0, 0, 0, 1, 1, 1, 1, 1, 0, 1, 1, 0, 1, 1, 1, 1, 0, 0, 1, 1, 1, 0, 0, 0, 0, 0, 1, 0, 0, 1, 0, 0, 1, 1, 0, 0, 1, 1, 1, 0, 0, 0, 1, 1, 1, 1, 1, 1, 0, 1, 0, 1, 0, 1, 0, 1, 0, 1, 1, 1, 1, 1, 0, 0, 1, 1, 0, 1, 1, 1, 1, 1, 0, 0, 0, 0, 1, 1, 0, 0, 0, 0, 0, 0, 0, 0, 1, 0, 1, 0, 0, 1, 1, 0, 0, 1, 0, 1, 1, 1, 1, 0, 0, 0, 0, 0, 1, 0, 0, 0, 1, 0, 0, 0, 1, 1, 1, 0, 0, 1, 0, 1, 0, 0, 0, 1, 1, 0, 0, 0, 1, 0, 0, 0, 1, 1, 1, 1, 0, 1, 1, 1, 1, 1, 1, 1, 0, 0, 0, 1, 1, 1, 1, 1, 0, 1, 1, 1, 1, 1, 1, 0, 1, 1, 1, 0, 1, 1, 1, 1, 1, 1, 1, 1, 1, 1, 0, 1, 0, 0, 1, 1, 1, 0, 1, 1, 0, 0, 0, 1, 1, 0, 1, 1, 0, 0, 0, 0, 0, 0, 1, 1, 0, 0, 1, 0, 0, 0, 1, 0, 1, 0, 1, 0, 0, 0, 1, 1, 1, 1, 0, 0, 1, 0, 1, 0, 1, 0, 1, 1, 1, 0, 1, 1, 0, 0, 1, 0, 1, 1, 1, 0, 0, 0, 1, 0, 1, 1, 0, 1, 1, 0, 1, 1, 0, 0, 0, 0, 0, 1, 1, 0, 0, 0, 1, 1, 0, 0, 1, 0, 1, 0, 1, 1, 1, 1, 0, 1, 0, 1, 0, 1, 0, 0, 1, 0, 1, 0, 1, 1, 0, 0, 1, 0, 1, 1, 0, 1, 1, 0, 0, 1, 0, 0, 0, 0, 0, 0, 1, 1, 0, 1, 0, 1, 0, 0, 1, 0, 0, 1, 0, 0, 0, 0, 0, 1, 0, 1, 1, 0, 1, 0, 1, 0, 1, 1, 0, 1, 0, 1, 0, 1, 1, 1, 0, 1, 1, 1, 1, 0, 1, 0, 1, 0, 0, 1, 1, 1, 0, 1, 0, 0, 1, 0, 0, 1, 1, 0, 0, 1, 1, 1, 0, 1, 0, 1, 1, 0, 1, 1, 1, 0, 0, 0, 0, 1, 1, 0, 1, 0, 1, 0, 1, 0, 1, 0, 1, 0, 1, 0, 0, 0, 1, 1, 0, 0, 1, 1, 1, 0, 0, 1, 0, 0, 1, 1, 0, 1, 1, 1, 0, 1, 0, 1, 1, 0, 0, 1, 0, 1, 1, 1, 1, 1, 0, 1, 1, 1, 1, 1, 1, 0, 0, 1, 1, 1, 0, 1, 1, 0, 0, 1, 1, 1, 0, 0, 1, 0, 0, 0, 0, 1, 1, 1, 0, 0, 0, 1, 1, 0, 0, 1, 0, 1, 0, 1, 0, 1, 0, 0, 0, 1, 0, 0, 0, 0, 0, 0, 0, 0, 1, 1, 0, 0, 1, 1, 0, 1, 0, 0, 0, 0, 0, 0, 0, 1, 0, 1, 0, 0, 1, 0, 0, 1, 1, 0, 0, 0, 1, 1, 1, 0, 0, 1, 0, 1, 1, 0, 0, 0, 1, 1, 0, 0, 0, 1, 0, 1, 0, 1, 1, 0, 0, 0, 1, 1, 1, 0, 1, 1, 1, 1, 1, 0, 0, 0, 1, 0, 0, 1, 0, 0, 1, 1, 1, 1, 0, 0, 0, 0, 0, 0, 1, 0, 1, 0, 0, 0, 1, 0, 1, 0, 1, 1, 1, 1, 1, 1, 1, 0, 1, 0, 1, 0, 1, 1, 1, 1, 0, 0, 1, 0, 1, 0, 0, 0, 0, 1, 0, 0, 1, 1, 1, 0, 0, 0, 0, 1, 1, 0, 0, 1, 1, 0, 1, 0, 1, 0, 0, 1, 0, 1, 1, 0, 0, 0, 1, 0, 0, 0, 1, 0, 0, 1, 1, 0, 1, 0, 1, 0, 1, 0, 1, 0, 0, 0, 0, 1, 0, 1, 1, 1, 1, 0, 0, 0, 1, 0, 0, 0, 0, 1, 1, 0, 1, 0, 0, 1, 0, 0, 0, 0, 1, 1, 1, 1, 1, 0, 1, 0, 1, 1, 1, 1, 1, 1, 0, 1, 0, 1, 0, 0, 0, 0, 1, 0, 1, 0, 1, 1, 1, 1, 1, 0, 1, 0, 0, 0, 0, 0, 1, 0, 1, 1, 0, 1, 0, 0, 0, 1, 1, 1, 0, 1, 1, 1, 0, 0, 1, 0, 1, 1, 0, 1, 1, 1, 0, 0, 0, 1, 1, 0, 1, 1, 0, 0, 0, 0, 0, 1, 1, 0, 0, 1, 1, 1, 0, 1, 0, 1, 1, 0, 1, 0, 0, 1, 1, 0, 1, 1, 1, 0, 1, 0, 1, 1, 0, 1, 1, 1, 1, 1, 0, 1, 1, 0, 1, 0, 0, 1, 1, 1, 1, 1, 0, 0, 0, 1, 1, 1, 1, 0, 0, 1, 1, 1, 1, 0, 1, 1, 0, 0, 0, 1, 0, 0, 1, 0, 1, 0, 0, 1, 0, 0, 0, 0, 1, 1, 1, 0, 0, 0, 1, 0, 1, 1, 0, 0, 1, 1, 1, 1, 0, 1, 1, 1, 0, 1, 1, 1, 1, 1, 0, 0, 0, 0, 1, 1, 0, 1, 0, 0, 0, 1, 1, 0, 0, 0, 1, 0, 0, 1, 0, 1, 1, 0, 1, 0, 1, 0, 1, 0, 0, 1, 1, 0, 1, 0, 1, 0, 0, 1, 0, 1, 0, 1, 0, 0, 1, 0, 0, 1, 0, 0, 0, 0, 0, 0, 0, 0, 0, 1, 0, 1, 1, 1, 0, 1, 1, 0, 1, 0, 0, 1, 1, 1, 0, 1, 1, 1, 0, 0, 1, 1, 0, 1, 0, 0, 1, 1, 1, 1, 1, 1, 1, 1, 0, 0, 0, 1, 0, 1, 1, 1, 0, 1, 1, 0, 0, 0, 1, 0, 0, 0, 0, 0, 1, 1, 1, 1, 0, 0, 1, 0, 0, 0, 1, 0, 1, 1, 0, 0, 1, 0, 1, 0, 0, 1, 0, 1, 0, 1, 1, 0, 1, 1, 0, 1, 1, 1, 1, 1, 1, 0, 1, 0, 0, 1, 0, 0, 1, 0, 0, 0, 1, 0, 1, 0, 0, 1, 1, 0, 1, 0, 0, 1, 1, 0, 1, 0, 0, 1, 1, 1, 1, 1, 1, 0, 0, 0, 0, 1, 1, 1, 0, 1, 1, 1, 1, 0, 0, 1, 0, 1, 1, 0, 1, 0, 1, 0, 0, 0, 0, 1, 0, 0, 0, 0, 1, 1, 1, 1, 1, 1, 1, 1, 1, 0, 0, 1, 1, 1, 1, 1, 0, 0, 0, 1, 0, 0, 1, 1, 1, 1, 0, 1, 1, 0, 1, 0, 1, 1, 0, 1, 0, 0, 0, 1, 0, 1, 1, 0, 0, 0, 1, 0, 0, 1, 0, 1, 1, 1, 1, 1, 0, 1, 0, 0, 0, 1, 0, 1, 0, 0, 0, 1, 1, 1, 0, 0, 1, 1, 1, 0, 0, 0, 0, 1, 1, 1, 0, 0, 0, 0, 0, 1, 0, 0, 1, 1, 0, 1, 0, 0, 0, 0, 0, 0, 0, 0, 1, 0, 0, 1, 0, 0, 0, 0, 0, 1, 1, 1, 0, 0, 0, 0, 1, 0, 0, 0, 0, 0, 1, 1, 1, 0, 1, 0, 1, 1, 1, 1, 0, 1, 1, 0, 1, 1, 1, 0, 0, 1, 0, 0, 1, 0, 0, 0, 1, 0, 0, 1, 1, 0, 0, 0, 1, 1, 0, 1, 0, 0, 0, 1, 1, 1, 1, 1, 1, 0, 1, 1, 1, 0, 0, 0, 0, 1, 0, 0, 1, 0, 1, 1, 1, 1, 0, 1, 0, 0, 1, 0, 0, 1, 1, 0, 1, 1, 1, 0, 1, 1, 1, 0, 1, 1, 0, 1, 1, 1, 1, 0, 1, 0, 1, 1, 1, 0, 1, 0, 0, 1, 1, 1, 0, 1, 1, 0, 1, 0, 0, 1, 0, 0, 1, 0, 1, 0, 1, 1, 1, 0, 0, 0, 1, 0, 1, 1, 0, 1, 0, 0, 1, 0, 1, 0, 1, 0, 1, 0, 0, 0, 1, 1, 1, 0, 1, 0, 1, 0, 0, 0, 1, 0, 1, 1, 1, 0, 0, 1, 1, 1, 0, 0, 1, 0, 1, 0, 1, 1, 1, 0, 0, 1, 1, 0, 1, 1, 1, 0, 0, 0, 1, 0, 1, 1, 0, 0, 0, 1, 0, 0, 1, 1, 1, 0, 1, 1, 1, 0, 0, 0, 1, 0, 1, 0, 0, 0, 1, 0, 1, 0, 1, 0, 1, 1, 0, 1, 0, 1, 1, 1, 1, 0, 1, 1, 1, 1, 0, 0, 1, 1, 0, 0, 0, 0, 0, 1, 0, 1, 1, 1, 0, 0, 0, 0, 0, 0, 1, 0, 1, 0, 1, 0, 0, 1, 0, 0, 0, 1, 1, 1, 0, 1, 1, 1, 0, 0, 0, 1, 1, 1, 0, 0, 1, 0, 1, 1, 1, 0, 0, 1, 0, 1, 0, 1, 1, 0, 1, 0, 1, 0, 0, 0, 0, 0, 0, 0, 0, 0, 1, 0, 1, 1, 0, 0, 0, 0, 0, 1, 1, 1, 1, 1, 1, 0, 0, 1, 0, 0, 0, 1, 0, 1, 1, 0, 1, 0, 0, 0, 0, 0, 1, 0, 0, 0, 1, 1, 0, 0, 0, 1, 0, 1, 1, 0, 1, 0, 0, 1, 1, 0, 1, 0, 0, 0, 1, 1, 1, 1, 1, 0, 1, 0, 1, 0, 1, 1, 1, 0, 1, 0, 0, 0, 0, 1, 0, 1, 0, 1, 1]\n",
      "4345\n"
     ]
    }
   ],
   "source": [
    "#Counting + noise\n",
    "\n",
    "y_student = [] #our final teachers prediction with noise\n",
    "\n",
    "y_true_prediction = []\n",
    "\n",
    "for i in range(0,len(X_student)):\n",
    "    elem = X_student.iloc[i:i+1,:]\n",
    "\n",
    "    #We aggregate the predictions made invidually by each teacher to form a single common prediction\n",
    "    vote_counts = score(elem, list_teachers)\n",
    "    \n",
    "    #True prediction\n",
    "    result = report_max(vote_counts)\n",
    "    y_true_prediction.append(result)\n",
    "\n",
    "    # We add random noise sampled from the Laplace distribution\n",
    "    # epsilon = 1.0\n",
    "    noisy_vote_counts = report_noisy_max(vote_counts,1,1)\n",
    "    y_student.append(noisy_vote_counts)\n",
    "\n",
    "print(\"NOISY : \")\n",
    "print(y_student)\n",
    "print(len(y_student))"
   ]
  },
  {
   "cell_type": "markdown",
   "id": "5f4228f8-750d-4390-bab0-b59f473c70ba",
   "metadata": {},
   "source": [
    "**e) Train the student model**"
   ]
  },
  {
   "cell_type": "code",
   "execution_count": 29,
   "id": "d4792e38-0604-4152-85f9-e5ead7076b9a",
   "metadata": {},
   "outputs": [
    {
     "name": "stdout",
     "output_type": "stream",
     "text": [
      "4042\n"
     ]
    }
   ],
   "source": [
    "#Check similarities\n",
    "common_pred = 0\n",
    "for i in range(0,len(y_student)):\n",
    "    if(y_student[i]==y_true_prediction[i]):\n",
    "        common_pred= common_pred+1\n",
    "\n",
    "print(common_pred)"
   ]
  },
  {
   "cell_type": "code",
   "execution_count": 30,
   "id": "4a411efa-9b06-410c-8317-bed95e14576b",
   "metadata": {},
   "outputs": [
    {
     "data": {
      "text/html": [
       "<style>#sk-container-id-1 {\n",
       "  /* Definition of color scheme common for light and dark mode */\n",
       "  --sklearn-color-text: #000;\n",
       "  --sklearn-color-text-muted: #666;\n",
       "  --sklearn-color-line: gray;\n",
       "  /* Definition of color scheme for unfitted estimators */\n",
       "  --sklearn-color-unfitted-level-0: #fff5e6;\n",
       "  --sklearn-color-unfitted-level-1: #f6e4d2;\n",
       "  --sklearn-color-unfitted-level-2: #ffe0b3;\n",
       "  --sklearn-color-unfitted-level-3: chocolate;\n",
       "  /* Definition of color scheme for fitted estimators */\n",
       "  --sklearn-color-fitted-level-0: #f0f8ff;\n",
       "  --sklearn-color-fitted-level-1: #d4ebff;\n",
       "  --sklearn-color-fitted-level-2: #b3dbfd;\n",
       "  --sklearn-color-fitted-level-3: cornflowerblue;\n",
       "\n",
       "  /* Specific color for light theme */\n",
       "  --sklearn-color-text-on-default-background: var(--sg-text-color, var(--theme-code-foreground, var(--jp-content-font-color1, black)));\n",
       "  --sklearn-color-background: var(--sg-background-color, var(--theme-background, var(--jp-layout-color0, white)));\n",
       "  --sklearn-color-border-box: var(--sg-text-color, var(--theme-code-foreground, var(--jp-content-font-color1, black)));\n",
       "  --sklearn-color-icon: #696969;\n",
       "\n",
       "  @media (prefers-color-scheme: dark) {\n",
       "    /* Redefinition of color scheme for dark theme */\n",
       "    --sklearn-color-text-on-default-background: var(--sg-text-color, var(--theme-code-foreground, var(--jp-content-font-color1, white)));\n",
       "    --sklearn-color-background: var(--sg-background-color, var(--theme-background, var(--jp-layout-color0, #111)));\n",
       "    --sklearn-color-border-box: var(--sg-text-color, var(--theme-code-foreground, var(--jp-content-font-color1, white)));\n",
       "    --sklearn-color-icon: #878787;\n",
       "  }\n",
       "}\n",
       "\n",
       "#sk-container-id-1 {\n",
       "  color: var(--sklearn-color-text);\n",
       "}\n",
       "\n",
       "#sk-container-id-1 pre {\n",
       "  padding: 0;\n",
       "}\n",
       "\n",
       "#sk-container-id-1 input.sk-hidden--visually {\n",
       "  border: 0;\n",
       "  clip: rect(1px 1px 1px 1px);\n",
       "  clip: rect(1px, 1px, 1px, 1px);\n",
       "  height: 1px;\n",
       "  margin: -1px;\n",
       "  overflow: hidden;\n",
       "  padding: 0;\n",
       "  position: absolute;\n",
       "  width: 1px;\n",
       "}\n",
       "\n",
       "#sk-container-id-1 div.sk-dashed-wrapped {\n",
       "  border: 1px dashed var(--sklearn-color-line);\n",
       "  margin: 0 0.4em 0.5em 0.4em;\n",
       "  box-sizing: border-box;\n",
       "  padding-bottom: 0.4em;\n",
       "  background-color: var(--sklearn-color-background);\n",
       "}\n",
       "\n",
       "#sk-container-id-1 div.sk-container {\n",
       "  /* jupyter's `normalize.less` sets `[hidden] { display: none; }`\n",
       "     but bootstrap.min.css set `[hidden] { display: none !important; }`\n",
       "     so we also need the `!important` here to be able to override the\n",
       "     default hidden behavior on the sphinx rendered scikit-learn.org.\n",
       "     See: https://github.com/scikit-learn/scikit-learn/issues/21755 */\n",
       "  display: inline-block !important;\n",
       "  position: relative;\n",
       "}\n",
       "\n",
       "#sk-container-id-1 div.sk-text-repr-fallback {\n",
       "  display: none;\n",
       "}\n",
       "\n",
       "div.sk-parallel-item,\n",
       "div.sk-serial,\n",
       "div.sk-item {\n",
       "  /* draw centered vertical line to link estimators */\n",
       "  background-image: linear-gradient(var(--sklearn-color-text-on-default-background), var(--sklearn-color-text-on-default-background));\n",
       "  background-size: 2px 100%;\n",
       "  background-repeat: no-repeat;\n",
       "  background-position: center center;\n",
       "}\n",
       "\n",
       "/* Parallel-specific style estimator block */\n",
       "\n",
       "#sk-container-id-1 div.sk-parallel-item::after {\n",
       "  content: \"\";\n",
       "  width: 100%;\n",
       "  border-bottom: 2px solid var(--sklearn-color-text-on-default-background);\n",
       "  flex-grow: 1;\n",
       "}\n",
       "\n",
       "#sk-container-id-1 div.sk-parallel {\n",
       "  display: flex;\n",
       "  align-items: stretch;\n",
       "  justify-content: center;\n",
       "  background-color: var(--sklearn-color-background);\n",
       "  position: relative;\n",
       "}\n",
       "\n",
       "#sk-container-id-1 div.sk-parallel-item {\n",
       "  display: flex;\n",
       "  flex-direction: column;\n",
       "}\n",
       "\n",
       "#sk-container-id-1 div.sk-parallel-item:first-child::after {\n",
       "  align-self: flex-end;\n",
       "  width: 50%;\n",
       "}\n",
       "\n",
       "#sk-container-id-1 div.sk-parallel-item:last-child::after {\n",
       "  align-self: flex-start;\n",
       "  width: 50%;\n",
       "}\n",
       "\n",
       "#sk-container-id-1 div.sk-parallel-item:only-child::after {\n",
       "  width: 0;\n",
       "}\n",
       "\n",
       "/* Serial-specific style estimator block */\n",
       "\n",
       "#sk-container-id-1 div.sk-serial {\n",
       "  display: flex;\n",
       "  flex-direction: column;\n",
       "  align-items: center;\n",
       "  background-color: var(--sklearn-color-background);\n",
       "  padding-right: 1em;\n",
       "  padding-left: 1em;\n",
       "}\n",
       "\n",
       "\n",
       "/* Toggleable style: style used for estimator/Pipeline/ColumnTransformer box that is\n",
       "clickable and can be expanded/collapsed.\n",
       "- Pipeline and ColumnTransformer use this feature and define the default style\n",
       "- Estimators will overwrite some part of the style using the `sk-estimator` class\n",
       "*/\n",
       "\n",
       "/* Pipeline and ColumnTransformer style (default) */\n",
       "\n",
       "#sk-container-id-1 div.sk-toggleable {\n",
       "  /* Default theme specific background. It is overwritten whether we have a\n",
       "  specific estimator or a Pipeline/ColumnTransformer */\n",
       "  background-color: var(--sklearn-color-background);\n",
       "}\n",
       "\n",
       "/* Toggleable label */\n",
       "#sk-container-id-1 label.sk-toggleable__label {\n",
       "  cursor: pointer;\n",
       "  display: flex;\n",
       "  width: 100%;\n",
       "  margin-bottom: 0;\n",
       "  padding: 0.5em;\n",
       "  box-sizing: border-box;\n",
       "  text-align: center;\n",
       "  align-items: start;\n",
       "  justify-content: space-between;\n",
       "  gap: 0.5em;\n",
       "}\n",
       "\n",
       "#sk-container-id-1 label.sk-toggleable__label .caption {\n",
       "  font-size: 0.6rem;\n",
       "  font-weight: lighter;\n",
       "  color: var(--sklearn-color-text-muted);\n",
       "}\n",
       "\n",
       "#sk-container-id-1 label.sk-toggleable__label-arrow:before {\n",
       "  /* Arrow on the left of the label */\n",
       "  content: \"▸\";\n",
       "  float: left;\n",
       "  margin-right: 0.25em;\n",
       "  color: var(--sklearn-color-icon);\n",
       "}\n",
       "\n",
       "#sk-container-id-1 label.sk-toggleable__label-arrow:hover:before {\n",
       "  color: var(--sklearn-color-text);\n",
       "}\n",
       "\n",
       "/* Toggleable content - dropdown */\n",
       "\n",
       "#sk-container-id-1 div.sk-toggleable__content {\n",
       "  max-height: 0;\n",
       "  max-width: 0;\n",
       "  overflow: hidden;\n",
       "  text-align: left;\n",
       "  /* unfitted */\n",
       "  background-color: var(--sklearn-color-unfitted-level-0);\n",
       "}\n",
       "\n",
       "#sk-container-id-1 div.sk-toggleable__content.fitted {\n",
       "  /* fitted */\n",
       "  background-color: var(--sklearn-color-fitted-level-0);\n",
       "}\n",
       "\n",
       "#sk-container-id-1 div.sk-toggleable__content pre {\n",
       "  margin: 0.2em;\n",
       "  border-radius: 0.25em;\n",
       "  color: var(--sklearn-color-text);\n",
       "  /* unfitted */\n",
       "  background-color: var(--sklearn-color-unfitted-level-0);\n",
       "}\n",
       "\n",
       "#sk-container-id-1 div.sk-toggleable__content.fitted pre {\n",
       "  /* unfitted */\n",
       "  background-color: var(--sklearn-color-fitted-level-0);\n",
       "}\n",
       "\n",
       "#sk-container-id-1 input.sk-toggleable__control:checked~div.sk-toggleable__content {\n",
       "  /* Expand drop-down */\n",
       "  max-height: 200px;\n",
       "  max-width: 100%;\n",
       "  overflow: auto;\n",
       "}\n",
       "\n",
       "#sk-container-id-1 input.sk-toggleable__control:checked~label.sk-toggleable__label-arrow:before {\n",
       "  content: \"▾\";\n",
       "}\n",
       "\n",
       "/* Pipeline/ColumnTransformer-specific style */\n",
       "\n",
       "#sk-container-id-1 div.sk-label input.sk-toggleable__control:checked~label.sk-toggleable__label {\n",
       "  color: var(--sklearn-color-text);\n",
       "  background-color: var(--sklearn-color-unfitted-level-2);\n",
       "}\n",
       "\n",
       "#sk-container-id-1 div.sk-label.fitted input.sk-toggleable__control:checked~label.sk-toggleable__label {\n",
       "  background-color: var(--sklearn-color-fitted-level-2);\n",
       "}\n",
       "\n",
       "/* Estimator-specific style */\n",
       "\n",
       "/* Colorize estimator box */\n",
       "#sk-container-id-1 div.sk-estimator input.sk-toggleable__control:checked~label.sk-toggleable__label {\n",
       "  /* unfitted */\n",
       "  background-color: var(--sklearn-color-unfitted-level-2);\n",
       "}\n",
       "\n",
       "#sk-container-id-1 div.sk-estimator.fitted input.sk-toggleable__control:checked~label.sk-toggleable__label {\n",
       "  /* fitted */\n",
       "  background-color: var(--sklearn-color-fitted-level-2);\n",
       "}\n",
       "\n",
       "#sk-container-id-1 div.sk-label label.sk-toggleable__label,\n",
       "#sk-container-id-1 div.sk-label label {\n",
       "  /* The background is the default theme color */\n",
       "  color: var(--sklearn-color-text-on-default-background);\n",
       "}\n",
       "\n",
       "/* On hover, darken the color of the background */\n",
       "#sk-container-id-1 div.sk-label:hover label.sk-toggleable__label {\n",
       "  color: var(--sklearn-color-text);\n",
       "  background-color: var(--sklearn-color-unfitted-level-2);\n",
       "}\n",
       "\n",
       "/* Label box, darken color on hover, fitted */\n",
       "#sk-container-id-1 div.sk-label.fitted:hover label.sk-toggleable__label.fitted {\n",
       "  color: var(--sklearn-color-text);\n",
       "  background-color: var(--sklearn-color-fitted-level-2);\n",
       "}\n",
       "\n",
       "/* Estimator label */\n",
       "\n",
       "#sk-container-id-1 div.sk-label label {\n",
       "  font-family: monospace;\n",
       "  font-weight: bold;\n",
       "  display: inline-block;\n",
       "  line-height: 1.2em;\n",
       "}\n",
       "\n",
       "#sk-container-id-1 div.sk-label-container {\n",
       "  text-align: center;\n",
       "}\n",
       "\n",
       "/* Estimator-specific */\n",
       "#sk-container-id-1 div.sk-estimator {\n",
       "  font-family: monospace;\n",
       "  border: 1px dotted var(--sklearn-color-border-box);\n",
       "  border-radius: 0.25em;\n",
       "  box-sizing: border-box;\n",
       "  margin-bottom: 0.5em;\n",
       "  /* unfitted */\n",
       "  background-color: var(--sklearn-color-unfitted-level-0);\n",
       "}\n",
       "\n",
       "#sk-container-id-1 div.sk-estimator.fitted {\n",
       "  /* fitted */\n",
       "  background-color: var(--sklearn-color-fitted-level-0);\n",
       "}\n",
       "\n",
       "/* on hover */\n",
       "#sk-container-id-1 div.sk-estimator:hover {\n",
       "  /* unfitted */\n",
       "  background-color: var(--sklearn-color-unfitted-level-2);\n",
       "}\n",
       "\n",
       "#sk-container-id-1 div.sk-estimator.fitted:hover {\n",
       "  /* fitted */\n",
       "  background-color: var(--sklearn-color-fitted-level-2);\n",
       "}\n",
       "\n",
       "/* Specification for estimator info (e.g. \"i\" and \"?\") */\n",
       "\n",
       "/* Common style for \"i\" and \"?\" */\n",
       "\n",
       ".sk-estimator-doc-link,\n",
       "a:link.sk-estimator-doc-link,\n",
       "a:visited.sk-estimator-doc-link {\n",
       "  float: right;\n",
       "  font-size: smaller;\n",
       "  line-height: 1em;\n",
       "  font-family: monospace;\n",
       "  background-color: var(--sklearn-color-background);\n",
       "  border-radius: 1em;\n",
       "  height: 1em;\n",
       "  width: 1em;\n",
       "  text-decoration: none !important;\n",
       "  margin-left: 0.5em;\n",
       "  text-align: center;\n",
       "  /* unfitted */\n",
       "  border: var(--sklearn-color-unfitted-level-1) 1pt solid;\n",
       "  color: var(--sklearn-color-unfitted-level-1);\n",
       "}\n",
       "\n",
       ".sk-estimator-doc-link.fitted,\n",
       "a:link.sk-estimator-doc-link.fitted,\n",
       "a:visited.sk-estimator-doc-link.fitted {\n",
       "  /* fitted */\n",
       "  border: var(--sklearn-color-fitted-level-1) 1pt solid;\n",
       "  color: var(--sklearn-color-fitted-level-1);\n",
       "}\n",
       "\n",
       "/* On hover */\n",
       "div.sk-estimator:hover .sk-estimator-doc-link:hover,\n",
       ".sk-estimator-doc-link:hover,\n",
       "div.sk-label-container:hover .sk-estimator-doc-link:hover,\n",
       ".sk-estimator-doc-link:hover {\n",
       "  /* unfitted */\n",
       "  background-color: var(--sklearn-color-unfitted-level-3);\n",
       "  color: var(--sklearn-color-background);\n",
       "  text-decoration: none;\n",
       "}\n",
       "\n",
       "div.sk-estimator.fitted:hover .sk-estimator-doc-link.fitted:hover,\n",
       ".sk-estimator-doc-link.fitted:hover,\n",
       "div.sk-label-container:hover .sk-estimator-doc-link.fitted:hover,\n",
       ".sk-estimator-doc-link.fitted:hover {\n",
       "  /* fitted */\n",
       "  background-color: var(--sklearn-color-fitted-level-3);\n",
       "  color: var(--sklearn-color-background);\n",
       "  text-decoration: none;\n",
       "}\n",
       "\n",
       "/* Span, style for the box shown on hovering the info icon */\n",
       ".sk-estimator-doc-link span {\n",
       "  display: none;\n",
       "  z-index: 9999;\n",
       "  position: relative;\n",
       "  font-weight: normal;\n",
       "  right: .2ex;\n",
       "  padding: .5ex;\n",
       "  margin: .5ex;\n",
       "  width: min-content;\n",
       "  min-width: 20ex;\n",
       "  max-width: 50ex;\n",
       "  color: var(--sklearn-color-text);\n",
       "  box-shadow: 2pt 2pt 4pt #999;\n",
       "  /* unfitted */\n",
       "  background: var(--sklearn-color-unfitted-level-0);\n",
       "  border: .5pt solid var(--sklearn-color-unfitted-level-3);\n",
       "}\n",
       "\n",
       ".sk-estimator-doc-link.fitted span {\n",
       "  /* fitted */\n",
       "  background: var(--sklearn-color-fitted-level-0);\n",
       "  border: var(--sklearn-color-fitted-level-3);\n",
       "}\n",
       "\n",
       ".sk-estimator-doc-link:hover span {\n",
       "  display: block;\n",
       "}\n",
       "\n",
       "/* \"?\"-specific style due to the `<a>` HTML tag */\n",
       "\n",
       "#sk-container-id-1 a.estimator_doc_link {\n",
       "  float: right;\n",
       "  font-size: 1rem;\n",
       "  line-height: 1em;\n",
       "  font-family: monospace;\n",
       "  background-color: var(--sklearn-color-background);\n",
       "  border-radius: 1rem;\n",
       "  height: 1rem;\n",
       "  width: 1rem;\n",
       "  text-decoration: none;\n",
       "  /* unfitted */\n",
       "  color: var(--sklearn-color-unfitted-level-1);\n",
       "  border: var(--sklearn-color-unfitted-level-1) 1pt solid;\n",
       "}\n",
       "\n",
       "#sk-container-id-1 a.estimator_doc_link.fitted {\n",
       "  /* fitted */\n",
       "  border: var(--sklearn-color-fitted-level-1) 1pt solid;\n",
       "  color: var(--sklearn-color-fitted-level-1);\n",
       "}\n",
       "\n",
       "/* On hover */\n",
       "#sk-container-id-1 a.estimator_doc_link:hover {\n",
       "  /* unfitted */\n",
       "  background-color: var(--sklearn-color-unfitted-level-3);\n",
       "  color: var(--sklearn-color-background);\n",
       "  text-decoration: none;\n",
       "}\n",
       "\n",
       "#sk-container-id-1 a.estimator_doc_link.fitted:hover {\n",
       "  /* fitted */\n",
       "  background-color: var(--sklearn-color-fitted-level-3);\n",
       "}\n",
       "</style><div id=\"sk-container-id-1\" class=\"sk-top-container\"><div class=\"sk-text-repr-fallback\"><pre>RandomForestClassifier()</pre><b>In a Jupyter environment, please rerun this cell to show the HTML representation or trust the notebook. <br />On GitHub, the HTML representation is unable to render, please try loading this page with nbviewer.org.</b></div><div class=\"sk-container\" hidden><div class=\"sk-item\"><div class=\"sk-estimator fitted sk-toggleable\"><input class=\"sk-toggleable__control sk-hidden--visually\" id=\"sk-estimator-id-1\" type=\"checkbox\" checked><label for=\"sk-estimator-id-1\" class=\"sk-toggleable__label fitted sk-toggleable__label-arrow\"><div><div>RandomForestClassifier</div></div><div><a class=\"sk-estimator-doc-link fitted\" rel=\"noreferrer\" target=\"_blank\" href=\"https://scikit-learn.org/1.6/modules/generated/sklearn.ensemble.RandomForestClassifier.html\">?<span>Documentation for RandomForestClassifier</span></a><span class=\"sk-estimator-doc-link fitted\">i<span>Fitted</span></span></div></label><div class=\"sk-toggleable__content fitted\"><pre>RandomForestClassifier()</pre></div> </div></div></div></div>"
      ],
      "text/plain": [
       "RandomForestClassifier()"
      ]
     },
     "execution_count": 30,
     "metadata": {},
     "output_type": "execute_result"
    }
   ],
   "source": [
    "#The student is trained by transfering knowledge acquired by the teacher ensemble in a privacy-preserving way\n",
    "\n",
    "clf_student = RFC(n_estimators=100)\n",
    "    \n",
    "#Training the model \n",
    "clf_student.fit(X_student,y_student)"
   ]
  },
  {
   "cell_type": "code",
   "execution_count": 31,
   "id": "e7784674-6957-4d8c-8bf5-a2f1d60d9be7",
   "metadata": {},
   "outputs": [
    {
     "name": "stdout",
     "output_type": "stream",
     "text": [
      "              precision    recall  f1-score   support\n",
      "\n",
      "           0       0.99      0.99      0.99      2185\n",
      "           1       0.99      0.99      0.99      2160\n",
      "\n",
      "    accuracy                           0.99      4345\n",
      "   macro avg       0.99      0.99      0.99      4345\n",
      "weighted avg       0.99      0.99      0.99      4345\n",
      "\n",
      "Accuracy: 0.9868814729574223\n"
     ]
    }
   ],
   "source": [
    "#Finally, we get a prediction from the test set\n",
    "y_pred_student=clf_student.predict(X_test)\n",
    "\n",
    "print(classification_report(y_test, y_pred_student))\n",
    "print(\"Accuracy:\",metrics.accuracy_score(y_test, y_pred_student))"
   ]
  },
  {
   "cell_type": "markdown",
   "id": "337c495b-e790-42aa-a00f-3b95b0daa314",
   "metadata": {},
   "source": [
    "Compared with a non-confidential model, we notice that it has very few accuracy losses during classification."
   ]
  },
  {
   "cell_type": "markdown",
   "id": "ebca5bd4-db19-4181-a37d-414d29399980",
   "metadata": {},
   "source": [
    "# **Conclusion**"
   ]
  },
  {
   "cell_type": "markdown",
   "id": "75ef9199-cdef-4df5-bc5a-8cb4d5a72706",
   "metadata": {},
   "source": [
    "In an era where data-driven decision-making is ubiquitous, ensuring privacy while maintaining data utility is a crucial challenge. Throughout this essay, we explored key concepts in privacy-preserving techniques, starting with pseudonymization and its limitations against membership inference attacks. We then examined k-anonymity as a foundational approach, though one that remains vulnerable to sophisticated adversaries. Differential privacy emerged as a more robust solution, offering mathematical guarantees of privacy by introducing controlled noise, as seen in the Laplace mechanism. Finally, the PATE framework demonstrated how ensemble learning can enhance privacy through knowledge distillation while leveraging the strengths of differential privacy.\n",
    "\n",
    "Ultimately, while no single method offers absolute security, differential privacy provides a strong foundation for mitigating risks in data sharing and machine learning. As research advances, refining these techniques will be essential to balancing privacy, accuracy, and usability in an increasingly data-driven world."
   ]
  },
  {
   "cell_type": "markdown",
   "id": "3ddf637b-6d74-4458-9994-2c7ee1c93743",
   "metadata": {},
   "source": [
    "Sources :\n",
    "- https://www.imperva.com/learn/data-security/anonymization/?utm_source=chatgpt.com\n",
    "- https://www.heavy.ai/technical-glossary/data-anonymization?utm_source=chatgpt.com\n",
    "- https://www.immuta.com/blog/data-anonymization-techniques/?utm_source=chatgpt.com\n",
    "- https://www.cis.upenn.edu/%7Eaaroth/Papers/privacybook.pdf\n",
    "- https://www.microsoft.com/en-us/research/wp-content/uploads/2008/04/dwork_tamc.pdf\n",
    "- https://cleverhans.io/privacy/2018/04/29/privacy-and-machine-learning.html\n",
    "- https://www.etsmtl.ca/etudes/cours/gti720"
   ]
  },
  {
   "cell_type": "markdown",
   "id": "5716a7e0-6e8a-4d56-8549-5df0aa345a00",
   "metadata": {},
   "source": [
    "<span style=\"font-size: 11px;\">Copyright © 2024 Laure Bouzerand. All rights reserved.\n",
    "This notebook and its source code is protected by copyright law. You may not reproduce, distribute, or use this work without the express written permission of the copyright holder.\n",
    "</span>"
   ]
  }
 ],
 "metadata": {
  "kernelspec": {
   "display_name": "Python 3 (ipykernel)",
   "language": "python",
   "name": "python3"
  },
  "language_info": {
   "codemirror_mode": {
    "name": "ipython",
    "version": 3
   },
   "file_extension": ".py",
   "mimetype": "text/x-python",
   "name": "python",
   "nbconvert_exporter": "python",
   "pygments_lexer": "ipython3",
   "version": "3.12.5"
  }
 },
 "nbformat": 4,
 "nbformat_minor": 5
}
